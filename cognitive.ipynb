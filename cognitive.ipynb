{
 "cells": [
  {
   "cell_type": "code",
   "execution_count": 1,
   "metadata": {},
   "outputs": [],
   "source": [
    "import pandas as pd\n",
    "import matplotlib.pyplot as plt\n",
    "#get_ipython().run_line_magic('matplotlib', 'inline')\n",
    "import seaborn as sns\n",
    "import warnings\n",
    "import nltk\n",
    "from nltk.corpus import stopwords\n",
    "# from google.colab import drive\n",
    "import pandas as pd\n",
    "import re\n",
    "import numpy as np"
   ]
  },
  {
   "cell_type": "code",
   "execution_count": 2,
   "metadata": {},
   "outputs": [],
   "source": [
    "df = pd.read_csv('train.csv')\n",
    "df2 = pd.read_csv('test.csv')"
   ]
  },
  {
   "cell_type": "code",
   "execution_count": 3,
   "metadata": {},
   "outputs": [],
   "source": [
    "df2.dropna(axis=0,subset=['job description'], inplace=True)"
   ]
  },
  {
   "attachments": {},
   "cell_type": "markdown",
   "metadata": {},
   "source": [
    "Preparing the data for train test split"
   ]
  },
  {
   "cell_type": "code",
   "execution_count": 4,
   "metadata": {},
   "outputs": [],
   "source": [
    "y_train=df['fake?']\n",
    "df=df.drop(['fake?'],axis=1)"
   ]
  },
  {
   "attachments": {},
   "cell_type": "markdown",
   "metadata": {},
   "source": [
    "Preparing the data for train test split\n"
   ]
  },
  {
   "cell_type": "code",
   "execution_count": 5,
   "metadata": {},
   "outputs": [],
   "source": [
    "y_test=df2['fake?']\n",
    "df2=df2.drop(['fake?'],axis=1)"
   ]
  },
  {
   "cell_type": "code",
   "execution_count": 6,
   "metadata": {},
   "outputs": [
    {
     "data": {
      "text/html": [
       "<div>\n",
       "<style scoped>\n",
       "    .dataframe tbody tr th:only-of-type {\n",
       "        vertical-align: middle;\n",
       "    }\n",
       "\n",
       "    .dataframe tbody tr th {\n",
       "        vertical-align: top;\n",
       "    }\n",
       "\n",
       "    .dataframe thead th {\n",
       "        text-align: right;\n",
       "    }\n",
       "</style>\n",
       "<table border=\"1\" class=\"dataframe\">\n",
       "  <thead>\n",
       "    <tr style=\"text-align: right;\">\n",
       "      <th></th>\n",
       "      <th>telecommuting</th>\n",
       "      <th>company logo exist?</th>\n",
       "      <th>has_questions</th>\n",
       "    </tr>\n",
       "  </thead>\n",
       "  <tbody>\n",
       "    <tr>\n",
       "      <th>count</th>\n",
       "      <td>12841.000000</td>\n",
       "      <td>12841.000000</td>\n",
       "      <td>12841.000000</td>\n",
       "    </tr>\n",
       "    <tr>\n",
       "      <th>mean</th>\n",
       "      <td>0.042286</td>\n",
       "      <td>0.792306</td>\n",
       "      <td>0.487423</td>\n",
       "    </tr>\n",
       "    <tr>\n",
       "      <th>std</th>\n",
       "      <td>0.201250</td>\n",
       "      <td>0.405672</td>\n",
       "      <td>0.499861</td>\n",
       "    </tr>\n",
       "    <tr>\n",
       "      <th>min</th>\n",
       "      <td>0.000000</td>\n",
       "      <td>0.000000</td>\n",
       "      <td>0.000000</td>\n",
       "    </tr>\n",
       "    <tr>\n",
       "      <th>25%</th>\n",
       "      <td>0.000000</td>\n",
       "      <td>1.000000</td>\n",
       "      <td>0.000000</td>\n",
       "    </tr>\n",
       "    <tr>\n",
       "      <th>50%</th>\n",
       "      <td>0.000000</td>\n",
       "      <td>1.000000</td>\n",
       "      <td>0.000000</td>\n",
       "    </tr>\n",
       "    <tr>\n",
       "      <th>75%</th>\n",
       "      <td>0.000000</td>\n",
       "      <td>1.000000</td>\n",
       "      <td>1.000000</td>\n",
       "    </tr>\n",
       "    <tr>\n",
       "      <th>max</th>\n",
       "      <td>1.000000</td>\n",
       "      <td>1.000000</td>\n",
       "      <td>1.000000</td>\n",
       "    </tr>\n",
       "  </tbody>\n",
       "</table>\n",
       "</div>"
      ],
      "text/plain": [
       "       telecommuting  company logo exist?  has_questions\n",
       "count   12841.000000         12841.000000   12841.000000\n",
       "mean        0.042286             0.792306       0.487423\n",
       "std         0.201250             0.405672       0.499861\n",
       "min         0.000000             0.000000       0.000000\n",
       "25%         0.000000             1.000000       0.000000\n",
       "50%         0.000000             1.000000       0.000000\n",
       "75%         0.000000             1.000000       1.000000\n",
       "max         1.000000             1.000000       1.000000"
      ]
     },
     "execution_count": 6,
     "metadata": {},
     "output_type": "execute_result"
    }
   ],
   "source": [
    "df.describe()"
   ]
  },
  {
   "attachments": {},
   "cell_type": "markdown",
   "metadata": {},
   "source": [
    "Handling missing values"
   ]
  },
  {
   "cell_type": "code",
   "execution_count": 7,
   "metadata": {},
   "outputs": [
    {
     "name": "stdout",
     "output_type": "stream",
     "text": [
      "job title                         0\n",
      "office location                 259\n",
      "department                     8260\n",
      "salary offered for the job    10752\n",
      "company information            2405\n",
      "job description                   0\n",
      "job requirements               1941\n",
      "benefits                       5245\n",
      "telecommuting                     0\n",
      "company logo exist?               0\n",
      "has_questions                     0\n",
      "employment_type                2528\n",
      "experience required            5086\n",
      "education required             5853\n",
      "industry                       3546\n",
      "function                       4659\n",
      "dtype: int64\n"
     ]
    }
   ],
   "source": [
    "print(df.isnull().sum())"
   ]
  },
  {
   "cell_type": "code",
   "execution_count": 8,
   "metadata": {},
   "outputs": [
    {
     "data": {
      "text/plain": [
       "(12841, 16)"
      ]
     },
     "execution_count": 8,
     "metadata": {},
     "output_type": "execute_result"
    }
   ],
   "source": [
    "df.shape"
   ]
  },
  {
   "cell_type": "code",
   "execution_count": 9,
   "metadata": {},
   "outputs": [],
   "source": [
    "df =df.rename(columns={\"job title\": \"job_title\", \"office location\": \"office_location\", \"salary offered for the job\": \"salary_offered_for_the_job\", \"company information\": \"company_information\",\"company information\": \"company_information\",\"job description\": \"job_description\",\"job requirements\":\"job_requirements\",\"company logo exist?\":\"company_logo_exist?\",\"experience required\":\"experience_required\",\"education required\":\"education_required\"})\n",
    "df2 =df2.rename(columns={\"job title\": \"job_title\", \"office location\": \"office_location\", \"salary offered for the job\": \"salary_offered_for_the_job\", \"company information\": \"company_information\",\"company information\": \"company_information\",\"job description\": \"job_description\",\"job requirements\":\"job_requirements\",\"company logo exist?\":\"company_logo_exist?\",\"experience required\":\"experience_required\",\"education required\":\"education_required\"})"
   ]
  },
  {
   "attachments": {},
   "cell_type": "markdown",
   "metadata": {},
   "source": [
    "Drop columns department,salary offered for the job,experince required and education required,office location#"
   ]
  },
  {
   "cell_type": "code",
   "execution_count": 10,
   "metadata": {},
   "outputs": [],
   "source": [
    "df.drop(columns=['department','salary_offered_for_the_job','experience_required','education_required','industry'],axis=1,inplace=True)\n",
    "#column with word ambiguity\n",
    "df.drop(columns=['office_location'],axis=1,inplace=True)\n",
    "#drop columns department,salary offered for the job,experince required and education required#\n",
    "df2.drop(columns=['department','salary_offered_for_the_job','experience_required','education_required','industry'],axis=1,inplace=True)\n",
    "#column with word ambiguity\n",
    "df2.drop(columns=['office_location'],axis=1,inplace=True)"
   ]
  },
  {
   "cell_type": "code",
   "execution_count": 11,
   "metadata": {},
   "outputs": [
    {
     "data": {
      "text/html": [
       "<div>\n",
       "<style scoped>\n",
       "    .dataframe tbody tr th:only-of-type {\n",
       "        vertical-align: middle;\n",
       "    }\n",
       "\n",
       "    .dataframe tbody tr th {\n",
       "        vertical-align: top;\n",
       "    }\n",
       "\n",
       "    .dataframe thead th {\n",
       "        text-align: right;\n",
       "    }\n",
       "</style>\n",
       "<table border=\"1\" class=\"dataframe\">\n",
       "  <thead>\n",
       "    <tr style=\"text-align: right;\">\n",
       "      <th></th>\n",
       "      <th>job_title</th>\n",
       "      <th>company_information</th>\n",
       "      <th>job_description</th>\n",
       "      <th>job_requirements</th>\n",
       "      <th>benefits</th>\n",
       "      <th>telecommuting</th>\n",
       "      <th>company_logo_exist?</th>\n",
       "      <th>has_questions</th>\n",
       "      <th>employment_type</th>\n",
       "      <th>function</th>\n",
       "    </tr>\n",
       "  </thead>\n",
       "  <tbody>\n",
       "    <tr>\n",
       "      <th>0</th>\n",
       "      <td>Videographer / Editor / Photographer</td>\n",
       "      <td>Dreamers &amp;amp; Creators is a creative agency t...</td>\n",
       "      <td>The Videographer / Editor / Photographer will ...</td>\n",
       "      <td>Minimum 1 year experience as an videographer /...</td>\n",
       "      <td>NaN</td>\n",
       "      <td>0</td>\n",
       "      <td>1</td>\n",
       "      <td>1</td>\n",
       "      <td>Full-time</td>\n",
       "      <td>Art/Creative</td>\n",
       "    </tr>\n",
       "    <tr>\n",
       "      <th>1</th>\n",
       "      <td>Supply Chain Manager</td>\n",
       "      <td>Η πρώτη στεγασμένη αγορά παραγωγών με παντοπωλ...</td>\n",
       "      <td>Buyer will be in charge of expanding our vendo...</td>\n",
       "      <td>Skills required:MS-Office excellentExperience ...</td>\n",
       "      <td>In private</td>\n",
       "      <td>0</td>\n",
       "      <td>1</td>\n",
       "      <td>1</td>\n",
       "      <td>NaN</td>\n",
       "      <td>NaN</td>\n",
       "    </tr>\n",
       "    <tr>\n",
       "      <th>2</th>\n",
       "      <td>Digital Project Manager</td>\n",
       "      <td>ConsumerTrack is a technology-centric internet...</td>\n",
       "      <td>We are looking for a Digital Project Manager t...</td>\n",
       "      <td>2+ years of project management experience in w...</td>\n",
       "      <td>Competitive salary with excellent growth oppor...</td>\n",
       "      <td>0</td>\n",
       "      <td>1</td>\n",
       "      <td>1</td>\n",
       "      <td>NaN</td>\n",
       "      <td>NaN</td>\n",
       "    </tr>\n",
       "    <tr>\n",
       "      <th>3</th>\n",
       "      <td>Global Communications Manager</td>\n",
       "      <td>Founded in 2010 by a team from Google’s London...</td>\n",
       "      <td>Qubit: Cutting Edge Big Data EngineeringQubit,...</td>\n",
       "      <td>Who You AreBy submitting your application you ...</td>\n",
       "      <td>Plenty of perksAs well as the opportunity to s...</td>\n",
       "      <td>0</td>\n",
       "      <td>1</td>\n",
       "      <td>1</td>\n",
       "      <td>Full-time</td>\n",
       "      <td>Marketing</td>\n",
       "    </tr>\n",
       "    <tr>\n",
       "      <th>4</th>\n",
       "      <td>S3I Candidates</td>\n",
       "      <td>NaN</td>\n",
       "      <td>Adform is a premier partner for media agencies...</td>\n",
       "      <td>DCO Team in Kaunas:Front End Developer #URL_82...</td>\n",
       "      <td>NaN</td>\n",
       "      <td>0</td>\n",
       "      <td>1</td>\n",
       "      <td>0</td>\n",
       "      <td>Full-time</td>\n",
       "      <td>NaN</td>\n",
       "    </tr>\n",
       "    <tr>\n",
       "      <th>...</th>\n",
       "      <td>...</td>\n",
       "      <td>...</td>\n",
       "      <td>...</td>\n",
       "      <td>...</td>\n",
       "      <td>...</td>\n",
       "      <td>...</td>\n",
       "      <td>...</td>\n",
       "      <td>...</td>\n",
       "      <td>...</td>\n",
       "      <td>...</td>\n",
       "    </tr>\n",
       "    <tr>\n",
       "      <th>12836</th>\n",
       "      <td>Senior Luxury Beauty Salesperson</td>\n",
       "      <td>S5 is the first range of certified organic cos...</td>\n",
       "      <td>PURPOSEResponsible for selling skincare produc...</td>\n",
       "      <td>Minimum 2 years experience as a Beauty Consult...</td>\n",
       "      <td>NaN</td>\n",
       "      <td>0</td>\n",
       "      <td>1</td>\n",
       "      <td>0</td>\n",
       "      <td>NaN</td>\n",
       "      <td>NaN</td>\n",
       "    </tr>\n",
       "    <tr>\n",
       "      <th>12837</th>\n",
       "      <td>Senior Digital Account Manager</td>\n",
       "      <td>Mindworks interactive is one of the fastest gr...</td>\n",
       "      <td>Mindworks is looking for a Senior Digital Acco...</td>\n",
       "      <td>Project ManagementDefine execution methodology...</td>\n",
       "      <td>Why Work for MindworksWe dream big. Together, ...</td>\n",
       "      <td>0</td>\n",
       "      <td>1</td>\n",
       "      <td>1</td>\n",
       "      <td>Full-time</td>\n",
       "      <td>Project Management</td>\n",
       "    </tr>\n",
       "    <tr>\n",
       "      <th>12838</th>\n",
       "      <td>Interior Designer</td>\n",
       "      <td>Schroeder Solutions is a full-service interior...</td>\n",
       "      <td>Schroeder Solutions is a full-service interior...</td>\n",
       "      <td>2-3 years experience in space planning and des...</td>\n",
       "      <td>Schroeder Solutions offers a competitive salar...</td>\n",
       "      <td>0</td>\n",
       "      <td>1</td>\n",
       "      <td>1</td>\n",
       "      <td>Full-time</td>\n",
       "      <td>Design</td>\n",
       "    </tr>\n",
       "    <tr>\n",
       "      <th>12839</th>\n",
       "      <td>.NET Developer</td>\n",
       "      <td>We Provide Full Time Permanent Positions for m...</td>\n",
       "      <td>(We have more than 1500+ Job openings in our w...</td>\n",
       "      <td>NaN</td>\n",
       "      <td>NaN</td>\n",
       "      <td>0</td>\n",
       "      <td>0</td>\n",
       "      <td>0</td>\n",
       "      <td>Full-time</td>\n",
       "      <td>NaN</td>\n",
       "    </tr>\n",
       "    <tr>\n",
       "      <th>12840</th>\n",
       "      <td>Senior Software Quality Engineer</td>\n",
       "      <td>The team at Top Source Talent is known within ...</td>\n",
       "      <td>Our client is a leading manufacturing company ...</td>\n",
       "      <td>Basic Qualifications EDUCATION REQUIRED• B.S./...</td>\n",
       "      <td>NaN</td>\n",
       "      <td>0</td>\n",
       "      <td>1</td>\n",
       "      <td>0</td>\n",
       "      <td>Full-time</td>\n",
       "      <td>Engineering</td>\n",
       "    </tr>\n",
       "  </tbody>\n",
       "</table>\n",
       "<p>12841 rows × 10 columns</p>\n",
       "</div>"
      ],
      "text/plain": [
       "                                  job_title  \\\n",
       "0      Videographer / Editor / Photographer   \n",
       "1                      Supply Chain Manager   \n",
       "2                  Digital Project Manager    \n",
       "3             Global Communications Manager   \n",
       "4                            S3I Candidates   \n",
       "...                                     ...   \n",
       "12836      Senior Luxury Beauty Salesperson   \n",
       "12837        Senior Digital Account Manager   \n",
       "12838                     Interior Designer   \n",
       "12839                        .NET Developer   \n",
       "12840      Senior Software Quality Engineer   \n",
       "\n",
       "                                     company_information  \\\n",
       "0      Dreamers &amp; Creators is a creative agency t...   \n",
       "1      Η πρώτη στεγασμένη αγορά παραγωγών με παντοπωλ...   \n",
       "2      ConsumerTrack is a technology-centric internet...   \n",
       "3      Founded in 2010 by a team from Google’s London...   \n",
       "4                                                    NaN   \n",
       "...                                                  ...   \n",
       "12836  S5 is the first range of certified organic cos...   \n",
       "12837  Mindworks interactive is one of the fastest gr...   \n",
       "12838  Schroeder Solutions is a full-service interior...   \n",
       "12839  We Provide Full Time Permanent Positions for m...   \n",
       "12840  The team at Top Source Talent is known within ...   \n",
       "\n",
       "                                         job_description  \\\n",
       "0      The Videographer / Editor / Photographer will ...   \n",
       "1      Buyer will be in charge of expanding our vendo...   \n",
       "2      We are looking for a Digital Project Manager t...   \n",
       "3      Qubit: Cutting Edge Big Data EngineeringQubit,...   \n",
       "4      Adform is a premier partner for media agencies...   \n",
       "...                                                  ...   \n",
       "12836  PURPOSEResponsible for selling skincare produc...   \n",
       "12837  Mindworks is looking for a Senior Digital Acco...   \n",
       "12838  Schroeder Solutions is a full-service interior...   \n",
       "12839  (We have more than 1500+ Job openings in our w...   \n",
       "12840  Our client is a leading manufacturing company ...   \n",
       "\n",
       "                                        job_requirements  \\\n",
       "0      Minimum 1 year experience as an videographer /...   \n",
       "1      Skills required:MS-Office excellentExperience ...   \n",
       "2      2+ years of project management experience in w...   \n",
       "3      Who You AreBy submitting your application you ...   \n",
       "4      DCO Team in Kaunas:Front End Developer #URL_82...   \n",
       "...                                                  ...   \n",
       "12836  Minimum 2 years experience as a Beauty Consult...   \n",
       "12837  Project ManagementDefine execution methodology...   \n",
       "12838  2-3 years experience in space planning and des...   \n",
       "12839                                                NaN   \n",
       "12840  Basic Qualifications EDUCATION REQUIRED• B.S./...   \n",
       "\n",
       "                                                benefits  telecommuting  \\\n",
       "0                                                    NaN              0   \n",
       "1                                             In private              0   \n",
       "2      Competitive salary with excellent growth oppor...              0   \n",
       "3      Plenty of perksAs well as the opportunity to s...              0   \n",
       "4                                                    NaN              0   \n",
       "...                                                  ...            ...   \n",
       "12836                                                NaN              0   \n",
       "12837  Why Work for MindworksWe dream big. Together, ...              0   \n",
       "12838  Schroeder Solutions offers a competitive salar...              0   \n",
       "12839                                                NaN              0   \n",
       "12840                                                NaN              0   \n",
       "\n",
       "       company_logo_exist?  has_questions employment_type            function  \n",
       "0                        1              1       Full-time        Art/Creative  \n",
       "1                        1              1             NaN                 NaN  \n",
       "2                        1              1             NaN                 NaN  \n",
       "3                        1              1       Full-time           Marketing  \n",
       "4                        1              0       Full-time                 NaN  \n",
       "...                    ...            ...             ...                 ...  \n",
       "12836                    1              0             NaN                 NaN  \n",
       "12837                    1              1       Full-time  Project Management  \n",
       "12838                    1              1       Full-time              Design  \n",
       "12839                    0              0       Full-time                 NaN  \n",
       "12840                    1              0       Full-time         Engineering  \n",
       "\n",
       "[12841 rows x 10 columns]"
      ]
     },
     "execution_count": 11,
     "metadata": {},
     "output_type": "execute_result"
    }
   ],
   "source": [
    "df"
   ]
  },
  {
   "cell_type": "code",
   "execution_count": 12,
   "metadata": {},
   "outputs": [],
   "source": [
    "# Replace missing values of these featues with no information as we cannot drop them\n",
    "df['job_requirements'].fillna(\"Noinformation\", inplace = True)\n",
    "df['benefits'].fillna(\"Noinformation\", inplace = True) \n",
    "df['company_information'].fillna(\"Noinformation\", inplace = True)\n",
    "df['function'].fillna(\"Noinformation\", inplace = True)\n",
    "# Replace missing values of these featues with no information as we cannot drop them\n",
    "df2['job_requirements'].fillna(\"Noinformation\", inplace = True)\n",
    "df2['benefits'].fillna(\"Noinformation\", inplace = True) \n",
    "df2['company_information'].fillna(\"Noinformation\", inplace = True)\n",
    "df2['function'].fillna(\"Noinformation\", inplace = True)"
   ]
  },
  {
   "cell_type": "code",
   "execution_count": 13,
   "metadata": {},
   "outputs": [],
   "source": [
    "#Replace the missing values of these columns with mode as it is suitable for categorical variables with a small number of unique values.\n",
    "for column in ['employment_type']:\n",
    "    df[column].fillna(df[column].mode()[0], inplace=True)\n",
    "#Replace the missing values of these columns with mode as it is suitable for categorical variables with a small number of unique values.\n",
    "for column in ['employment_type']:\n",
    "    df2[column].fillna(df2[column].mode()[0], inplace=True)"
   ]
  },
  {
   "attachments": {},
   "cell_type": "markdown",
   "metadata": {},
   "source": [
    "One-hot encoding of the employment_type and function columns"
   ]
  },
  {
   "cell_type": "code",
   "execution_count": 14,
   "metadata": {},
   "outputs": [],
   "source": [
    "encoded_df_emp = pd.get_dummies(df['employment_type'])\n",
    "encoded_df_func = pd.get_dummies(df['function'])\n",
    "df = pd.concat([df, encoded_df_emp], axis=1, join=\"inner\")\n",
    "df = pd.concat([df, encoded_df_func], axis=1, join=\"inner\")"
   ]
  },
  {
   "cell_type": "code",
   "execution_count": 15,
   "metadata": {},
   "outputs": [
    {
     "data": {
      "text/html": [
       "<div>\n",
       "<style scoped>\n",
       "    .dataframe tbody tr th:only-of-type {\n",
       "        vertical-align: middle;\n",
       "    }\n",
       "\n",
       "    .dataframe tbody tr th {\n",
       "        vertical-align: top;\n",
       "    }\n",
       "\n",
       "    .dataframe thead th {\n",
       "        text-align: right;\n",
       "    }\n",
       "</style>\n",
       "<table border=\"1\" class=\"dataframe\">\n",
       "  <thead>\n",
       "    <tr style=\"text-align: right;\">\n",
       "      <th></th>\n",
       "      <th>job_title</th>\n",
       "      <th>company_information</th>\n",
       "      <th>job_description</th>\n",
       "      <th>job_requirements</th>\n",
       "      <th>benefits</th>\n",
       "      <th>telecommuting</th>\n",
       "      <th>company_logo_exist?</th>\n",
       "      <th>has_questions</th>\n",
       "      <th>employment_type</th>\n",
       "      <th>function</th>\n",
       "      <th>...</th>\n",
       "      <th>Public Relations</th>\n",
       "      <th>Purchasing</th>\n",
       "      <th>Quality Assurance</th>\n",
       "      <th>Research</th>\n",
       "      <th>Sales</th>\n",
       "      <th>Science</th>\n",
       "      <th>Strategy/Planning</th>\n",
       "      <th>Supply Chain</th>\n",
       "      <th>Training</th>\n",
       "      <th>Writing/Editing</th>\n",
       "    </tr>\n",
       "  </thead>\n",
       "  <tbody>\n",
       "    <tr>\n",
       "      <th>0</th>\n",
       "      <td>Commercial/Industrial Construction Superintendent</td>\n",
       "      <td>Noinformation</td>\n",
       "      <td>Seeking qualified candidates for a full-time s...</td>\n",
       "      <td>Minimum five years of construction management ...</td>\n",
       "      <td>401K, company vehicle, health, vision and dent...</td>\n",
       "      <td>0</td>\n",
       "      <td>0</td>\n",
       "      <td>1</td>\n",
       "      <td>Full-time</td>\n",
       "      <td>Management</td>\n",
       "      <td>...</td>\n",
       "      <td>0</td>\n",
       "      <td>0</td>\n",
       "      <td>0</td>\n",
       "      <td>0</td>\n",
       "      <td>0</td>\n",
       "      <td>0</td>\n",
       "      <td>0</td>\n",
       "      <td>0</td>\n",
       "      <td>0</td>\n",
       "      <td>0</td>\n",
       "    </tr>\n",
       "    <tr>\n",
       "      <th>1</th>\n",
       "      <td>Title Closer / Settlement Agent</td>\n",
       "      <td>Network Closing Services has been serving Lend...</td>\n",
       "      <td>Looking for a change?  Not happy where you are...</td>\n",
       "      <td>Are you a top Closer in your market? Are you a...</td>\n",
       "      <td>We provide a fun and rewarding atmosphere, our...</td>\n",
       "      <td>0</td>\n",
       "      <td>1</td>\n",
       "      <td>1</td>\n",
       "      <td>Full-time</td>\n",
       "      <td>Noinformation</td>\n",
       "      <td>...</td>\n",
       "      <td>0</td>\n",
       "      <td>0</td>\n",
       "      <td>0</td>\n",
       "      <td>0</td>\n",
       "      <td>0</td>\n",
       "      <td>0</td>\n",
       "      <td>0</td>\n",
       "      <td>0</td>\n",
       "      <td>0</td>\n",
       "      <td>0</td>\n",
       "    </tr>\n",
       "    <tr>\n",
       "      <th>2</th>\n",
       "      <td>Back-end Developer</td>\n",
       "      <td>About the CompanyWe are ticketscript - the Eur...</td>\n",
       "      <td>About the CompanyWe are ticketscript - the Eur...</td>\n",
       "      <td>Your profileThe basics- 5+ years of experience...</td>\n",
       "      <td>Our offerA competitive salary within an intern...</td>\n",
       "      <td>0</td>\n",
       "      <td>1</td>\n",
       "      <td>0</td>\n",
       "      <td>Full-time</td>\n",
       "      <td>Information Technology</td>\n",
       "      <td>...</td>\n",
       "      <td>0</td>\n",
       "      <td>0</td>\n",
       "      <td>0</td>\n",
       "      <td>0</td>\n",
       "      <td>0</td>\n",
       "      <td>0</td>\n",
       "      <td>0</td>\n",
       "      <td>0</td>\n",
       "      <td>0</td>\n",
       "      <td>0</td>\n",
       "    </tr>\n",
       "    <tr>\n",
       "      <th>3</th>\n",
       "      <td>Full-time Web Developer</td>\n",
       "      <td>Noinformation</td>\n",
       "      <td>#NAME?</td>\n",
       "      <td>- Must have extensive knowledge of CMS framewo...</td>\n",
       "      <td>Noinformation</td>\n",
       "      <td>0</td>\n",
       "      <td>1</td>\n",
       "      <td>0</td>\n",
       "      <td>Full-time</td>\n",
       "      <td>Information Technology</td>\n",
       "      <td>...</td>\n",
       "      <td>0</td>\n",
       "      <td>0</td>\n",
       "      <td>0</td>\n",
       "      <td>0</td>\n",
       "      <td>0</td>\n",
       "      <td>0</td>\n",
       "      <td>0</td>\n",
       "      <td>0</td>\n",
       "      <td>0</td>\n",
       "      <td>0</td>\n",
       "    </tr>\n",
       "    <tr>\n",
       "      <th>4</th>\n",
       "      <td>Program Manager</td>\n",
       "      <td>Come be a part of one of the fastest growing, ...</td>\n",
       "      <td>We are looking for a Program Manager who can h...</td>\n",
       "      <td>Desired skills…10+ years of industry experienc...</td>\n",
       "      <td>Competitive base salaryStock OptionsFull benef...</td>\n",
       "      <td>0</td>\n",
       "      <td>1</td>\n",
       "      <td>1</td>\n",
       "      <td>Full-time</td>\n",
       "      <td>Noinformation</td>\n",
       "      <td>...</td>\n",
       "      <td>0</td>\n",
       "      <td>0</td>\n",
       "      <td>0</td>\n",
       "      <td>0</td>\n",
       "      <td>0</td>\n",
       "      <td>0</td>\n",
       "      <td>0</td>\n",
       "      <td>0</td>\n",
       "      <td>0</td>\n",
       "      <td>0</td>\n",
       "    </tr>\n",
       "  </tbody>\n",
       "</table>\n",
       "<p>5 rows × 53 columns</p>\n",
       "</div>"
      ],
      "text/plain": [
       "                                           job_title  \\\n",
       "0  Commercial/Industrial Construction Superintendent   \n",
       "1                    Title Closer / Settlement Agent   \n",
       "2                                 Back-end Developer   \n",
       "3                            Full-time Web Developer   \n",
       "4                                    Program Manager   \n",
       "\n",
       "                                 company_information  \\\n",
       "0                                      Noinformation   \n",
       "1  Network Closing Services has been serving Lend...   \n",
       "2  About the CompanyWe are ticketscript - the Eur...   \n",
       "3                                      Noinformation   \n",
       "4  Come be a part of one of the fastest growing, ...   \n",
       "\n",
       "                                     job_description  \\\n",
       "0  Seeking qualified candidates for a full-time s...   \n",
       "1  Looking for a change?  Not happy where you are...   \n",
       "2  About the CompanyWe are ticketscript - the Eur...   \n",
       "3                                             #NAME?   \n",
       "4  We are looking for a Program Manager who can h...   \n",
       "\n",
       "                                    job_requirements  \\\n",
       "0  Minimum five years of construction management ...   \n",
       "1  Are you a top Closer in your market? Are you a...   \n",
       "2  Your profileThe basics- 5+ years of experience...   \n",
       "3  - Must have extensive knowledge of CMS framewo...   \n",
       "4  Desired skills…10+ years of industry experienc...   \n",
       "\n",
       "                                            benefits  telecommuting  \\\n",
       "0  401K, company vehicle, health, vision and dent...              0   \n",
       "1  We provide a fun and rewarding atmosphere, our...              0   \n",
       "2  Our offerA competitive salary within an intern...              0   \n",
       "3                                      Noinformation              0   \n",
       "4  Competitive base salaryStock OptionsFull benef...              0   \n",
       "\n",
       "   company_logo_exist?  has_questions employment_type                function  \\\n",
       "0                    0              1       Full-time              Management   \n",
       "1                    1              1       Full-time           Noinformation   \n",
       "2                    1              0       Full-time  Information Technology   \n",
       "3                    1              0       Full-time  Information Technology   \n",
       "4                    1              1       Full-time           Noinformation   \n",
       "\n",
       "   ...  Public Relations  Purchasing  Quality Assurance  Research  Sales  \\\n",
       "0  ...                 0           0                  0         0      0   \n",
       "1  ...                 0           0                  0         0      0   \n",
       "2  ...                 0           0                  0         0      0   \n",
       "3  ...                 0           0                  0         0      0   \n",
       "4  ...                 0           0                  0         0      0   \n",
       "\n",
       "   Science  Strategy/Planning  Supply Chain  Training  Writing/Editing  \n",
       "0        0                  0             0         0                0  \n",
       "1        0                  0             0         0                0  \n",
       "2        0                  0             0         0                0  \n",
       "3        0                  0             0         0                0  \n",
       "4        0                  0             0         0                0  \n",
       "\n",
       "[5 rows x 53 columns]"
      ]
     },
     "execution_count": 15,
     "metadata": {},
     "output_type": "execute_result"
    }
   ],
   "source": [
    "encoded_df_emp = pd.get_dummies(df2['employment_type'])\n",
    "encoded_df_func = pd.get_dummies(df2['function'])\n",
    "df2 = pd.concat([df2, encoded_df_emp], axis=1, join=\"inner\")\n",
    "df2 = pd.concat([df2, encoded_df_func], axis=1, join=\"inner\")\n",
    "df2.head()"
   ]
  },
  {
   "cell_type": "code",
   "execution_count": 16,
   "metadata": {},
   "outputs": [
    {
     "data": {
      "text/plain": [
       "job_title                 0\n",
       "company_information       0\n",
       "job_description           0\n",
       "job_requirements          0\n",
       "benefits                  0\n",
       "telecommuting             0\n",
       "company_logo_exist?       0\n",
       "has_questions             0\n",
       "employment_type           0\n",
       "function                  0\n",
       "Contract                  0\n",
       "Full-time                 0\n",
       "Other                     0\n",
       "Part-time                 0\n",
       "Temporary                 0\n",
       "Accounting/Auditing       0\n",
       "Administrative            0\n",
       "Advertising               0\n",
       "Art/Creative              0\n",
       "Business Analyst          0\n",
       "Business Development      0\n",
       "Consulting                0\n",
       "Customer Service          0\n",
       "Data Analyst              0\n",
       "Design                    0\n",
       "Distribution              0\n",
       "Education                 0\n",
       "Engineering               0\n",
       "Finance                   0\n",
       "Financial Analyst         0\n",
       "General Business          0\n",
       "Health Care Provider      0\n",
       "Human Resources           0\n",
       "Information Technology    0\n",
       "Legal                     0\n",
       "Management                0\n",
       "Manufacturing             0\n",
       "Marketing                 0\n",
       "Noinformation             0\n",
       "Other                     0\n",
       "Product Management        0\n",
       "Production                0\n",
       "Project Management        0\n",
       "Public Relations          0\n",
       "Purchasing                0\n",
       "Quality Assurance         0\n",
       "Research                  0\n",
       "Sales                     0\n",
       "Science                   0\n",
       "Strategy/Planning         0\n",
       "Supply Chain              0\n",
       "Training                  0\n",
       "Writing/Editing           0\n",
       "dtype: int64"
      ]
     },
     "execution_count": 16,
     "metadata": {},
     "output_type": "execute_result"
    }
   ],
   "source": [
    "df2.isna().sum()"
   ]
  },
  {
   "attachments": {},
   "cell_type": "markdown",
   "metadata": {},
   "source": [
    "Now check the shape of the dataframe after cleaning the data"
   ]
  },
  {
   "cell_type": "code",
   "execution_count": 17,
   "metadata": {},
   "outputs": [
    {
     "data": {
      "text/plain": [
       "(12841, 53)"
      ]
     },
     "execution_count": 17,
     "metadata": {},
     "output_type": "execute_result"
    }
   ],
   "source": [
    "df.shape"
   ]
  },
  {
   "cell_type": "code",
   "execution_count": 18,
   "metadata": {},
   "outputs": [],
   "source": [
    "def lowercase(dataframe):\n",
    "    \n",
    "    lowercase_dataframe = dataframe.apply(lambda x: x.lower())\n",
    "    return lowercase_dataframe"
   ]
  },
  {
   "cell_type": "code",
   "execution_count": 19,
   "metadata": {},
   "outputs": [
    {
     "name": "stdout",
     "output_type": "stream",
     "text": [
      "['i', 'me', 'my', 'myself', 'we', 'our', 'ours', 'ourselves', 'you', \"you're\", \"you've\", \"you'll\", \"you'd\", 'your', 'yours', 'yourself', 'yourselves', 'he', 'him', 'his', 'himself', 'she', \"she's\", 'her', 'hers', 'herself', 'it', \"it's\", 'its', 'itself', 'they', 'them', 'their', 'theirs', 'themselves', 'what', 'which', 'who', 'whom', 'this', 'that', \"that'll\", 'these', 'those', 'am', 'is', 'are', 'was', 'were', 'be', 'been', 'being', 'have', 'has', 'had', 'having', 'do', 'does', 'did', 'doing', 'a', 'an', 'the', 'and', 'but', 'if', 'or', 'because', 'as', 'until', 'while', 'of', 'at', 'by', 'for', 'with', 'about', 'against', 'between', 'into', 'through', 'during', 'before', 'after', 'above', 'below', 'to', 'from', 'up', 'down', 'in', 'out', 'on', 'off', 'over', 'under', 'again', 'further', 'then', 'once', 'here', 'there', 'when', 'where', 'why', 'how', 'all', 'any', 'both', 'each', 'few', 'more', 'most', 'other', 'some', 'such', 'no', 'nor', 'not', 'only', 'own', 'same', 'so', 'than', 'too', 'very', 's', 't', 'can', 'will', 'just', 'don', \"don't\", 'should', \"should've\", 'now', 'd', 'll', 'm', 'o', 're', 've', 'y', 'ain', 'aren', \"aren't\", 'couldn', \"couldn't\", 'didn', \"didn't\", 'doesn', \"doesn't\", 'hadn', \"hadn't\", 'hasn', \"hasn't\", 'haven', \"haven't\", 'isn', \"isn't\", 'ma', 'mightn', \"mightn't\", 'mustn', \"mustn't\", 'needn', \"needn't\", 'shan', \"shan't\", 'shouldn', \"shouldn't\", 'wasn', \"wasn't\", 'weren', \"weren't\", 'won', \"won't\", 'wouldn', \"wouldn't\"]\n",
      "(12841, 53)\n",
      "job_title                 object\n",
      "company_information       object\n",
      "job_description           object\n",
      "job_requirements          object\n",
      "benefits                  object\n",
      "telecommuting              int64\n",
      "company_logo_exist?        int64\n",
      "has_questions              int64\n",
      "employment_type           object\n",
      "function                  object\n",
      "Contract                   uint8\n",
      "Full-time                  uint8\n",
      "Other                      uint8\n",
      "Part-time                  uint8\n",
      "Temporary                  uint8\n",
      "Accounting/Auditing        uint8\n",
      "Administrative             uint8\n",
      "Advertising                uint8\n",
      "Art/Creative               uint8\n",
      "Business Analyst           uint8\n",
      "Business Development       uint8\n",
      "Consulting                 uint8\n",
      "Customer Service           uint8\n",
      "Data Analyst               uint8\n",
      "Design                     uint8\n",
      "Distribution               uint8\n",
      "Education                  uint8\n",
      "Engineering                uint8\n",
      "Finance                    uint8\n",
      "Financial Analyst          uint8\n",
      "General Business           uint8\n",
      "Health Care Provider       uint8\n",
      "Human Resources            uint8\n",
      "Information Technology     uint8\n",
      "Legal                      uint8\n",
      "Management                 uint8\n",
      "Manufacturing              uint8\n",
      "Marketing                  uint8\n",
      "Noinformation              uint8\n",
      "Other                      uint8\n",
      "Product Management         uint8\n",
      "Production                 uint8\n",
      "Project Management         uint8\n",
      "Public Relations           uint8\n",
      "Purchasing                 uint8\n",
      "Quality Assurance          uint8\n",
      "Research                   uint8\n",
      "Sales                      uint8\n",
      "Science                    uint8\n",
      "Strategy/Planning          uint8\n",
      "Supply Chain               uint8\n",
      "Training                   uint8\n",
      "Writing/Editing            uint8\n",
      "dtype: object\n"
     ]
    },
    {
     "name": "stderr",
     "output_type": "stream",
     "text": [
      "[nltk_data] Downloading package stopwords to\n",
      "[nltk_data]     C:\\Users\\Mostafa\\AppData\\Roaming\\nltk_data...\n",
      "[nltk_data]   Package stopwords is already up-to-date!\n"
     ]
    }
   ],
   "source": [
    "nltk.download('stopwords')\n",
    "stop_words= stopwords.words(\"english\")\n",
    "print(stop_words)\n",
    "print(df.shape)\n",
    "print(df.dtypes)"
   ]
  },
  {
   "cell_type": "code",
   "execution_count": 20,
   "metadata": {},
   "outputs": [],
   "source": [
    "url_pattren = re.compile(r'URL.*?#')\n",
    "hashtag_pattren = re.compile(r\"\\#[^#]*\\#\")\n",
    "def remove_url(text):\n",
    "    cleaned_text = re.sub(url_pattren, ' ', text)\n",
    "    return cleaned_text\n",
    "def remove_hash (text):\n",
    "    #cleaned_text = re.sub(url_pattren, ' ', text)\n",
    "    cleaned_text = re.sub(hashtag_pattren, ' ', text)\n",
    "    return cleaned_text\n",
    "# apply the function to the 'text' column of the dataframe\n",
    "df['company_information'] = df['company_information'].apply(str)\n",
    "df['company_information'] = df['company_information'].apply(remove_hash)\n",
    "\n",
    "df['job_description'] = df['job_description'].apply(str)\n",
    "df['job_description'] = df['job_description'].apply(remove_hash)\n",
    "\n",
    "df['job_requirements'] = df['job_requirements'].apply(str)\n",
    "df['job_requirements'] = df['job_requirements'].apply(remove_hash)\n",
    "\n",
    "df['benefits'] = df['benefits'].apply(str)\n",
    "df['benefits'] = df['benefits'].apply(remove_hash)"
   ]
  },
  {
   "attachments": {},
   "cell_type": "markdown",
   "metadata": {},
   "source": [
    "applying the function to df2"
   ]
  },
  {
   "cell_type": "code",
   "execution_count": 21,
   "metadata": {},
   "outputs": [],
   "source": [
    "df2['company_information'] = df2['company_information'].apply(str)\n",
    "df2['company_information'] = df2['company_information'].apply(remove_hash)\n",
    "\n",
    "df2['job_description'] = df2['job_description'].apply(str)\n",
    "df2['job_description'] = df2['job_description'].apply(remove_hash)\n",
    "\n",
    "df2['job_requirements'] = df2['job_requirements'].apply(str)\n",
    "df2['job_requirements'] = df2['job_requirements'].apply(remove_hash)\n",
    "\n",
    "df2['benefits'] = df2['benefits'].apply(str)\n",
    "df2['benefits'] = df2['benefits'].apply(remove_hash)"
   ]
  },
  {
   "cell_type": "code",
   "execution_count": 22,
   "metadata": {},
   "outputs": [],
   "source": [
    "special_pattern = re.compile(r\"[^a-zA-Z ]\")\n",
    "#this function is to clean teaxt \n",
    "def remove_characters(text):\n",
    "    cleaned_text = re.sub(special_pattern, ' ', text)\n",
    "    return cleaned_text\n",
    "\n",
    "# apply the function to the 'text' column of the dataframe\n",
    "df['company_information'] = df['company_information'].apply(str)\n",
    "df['company_information'] = df['company_information'].apply(remove_characters)\n",
    "\n",
    "df['job_description'] = df['job_description'].apply(str)\n",
    "df['job_description'] = df['job_description'].apply(remove_characters)\n",
    "\n",
    "df['job_requirements'] = df['job_requirements'].apply(str)\n",
    "df['job_requirements'] = df['job_requirements'].apply(remove_characters)\n",
    "\n",
    "df['benefits'] = df['benefits'].apply(str)\n",
    "df['benefits'] = df['benefits'].apply(remove_characters)"
   ]
  },
  {
   "cell_type": "code",
   "execution_count": 23,
   "metadata": {},
   "outputs": [],
   "source": [
    "#removing special characters from df2\n",
    "# apply the function to the 'text' column of the dataframe\n",
    "df2['company_information'] = df2['company_information'].apply(str)\n",
    "df2['company_information'] = df2['company_information'].apply(remove_characters)\n",
    "\n",
    "df2['job_description'] = df2['job_description'].apply(str)\n",
    "df2['job_description'] = df2['job_description'].apply(remove_characters)\n",
    "\n",
    "df2['job_requirements'] = df2['job_requirements'].apply(str)\n",
    "df2['job_requirements'] = df2['job_requirements'].apply(remove_characters)\n",
    "\n",
    "df2['benefits'] = df2['benefits'].apply(str)\n",
    "df2['benefits'] = df2['benefits'].apply(remove_characters)"
   ]
  },
  {
   "cell_type": "code",
   "execution_count": 24,
   "metadata": {},
   "outputs": [],
   "source": [
    "#df.to_csv('finalalaa2.csv')"
   ]
  },
  {
   "cell_type": "code",
   "execution_count": 25,
   "metadata": {},
   "outputs": [],
   "source": [
    "#combine columns in all info colomn\n",
    "all_info =df[['job_title','company_information','job_description','job_requirements','benefits']].agg(' '.join, axis=1)\n",
    "df['all_info']=all_info\n",
    "# #combine columns in all info colomn\n",
    "all_info =df2[['job_title','company_information','job_description','job_requirements','benefits']].agg(' '.join, axis=1)\n",
    "df2['all_info']=all_info"
   ]
  },
  {
   "attachments": {},
   "cell_type": "markdown",
   "metadata": {},
   "source": [
    "Convert all letters to lower case "
   ]
  },
  {
   "cell_type": "code",
   "execution_count": 26,
   "metadata": {},
   "outputs": [
    {
     "data": {
      "text/plain": [
       "0       commercial/industrial construction superintend...\n",
       "1       title closer / settlement agent network closin...\n",
       "2       back-end developer about the companywe are tic...\n",
       "3       full-time web developer noinformation  name   ...\n",
       "4       program manager come be a part of one of the f...\n",
       "                              ...                        \n",
       "3193    mortgage loan coordinator proficio mortgage is...\n",
       "3194    cruise staff wanted *urgent* noinformation    ...\n",
       "3195    full-time caregiver for a hip young man united...\n",
       "3196    assistant manager noinformation westview finan...\n",
       "3197    sales executive/business development manager -...\n",
       "Name: all_info, Length: 3197, dtype: object"
      ]
     },
     "execution_count": 26,
     "metadata": {},
     "output_type": "execute_result"
    }
   ],
   "source": [
    "df[\"all_info\"].str.lower()\n",
    "df2[\"all_info\"].str.lower()"
   ]
  },
  {
   "cell_type": "code",
   "execution_count": 27,
   "metadata": {},
   "outputs": [
    {
     "name": "stderr",
     "output_type": "stream",
     "text": [
      "[nltk_data] Downloading package punkt to\n",
      "[nltk_data]     C:\\Users\\Mostafa\\AppData\\Roaming\\nltk_data...\n",
      "[nltk_data]   Package punkt is already up-to-date!\n"
     ]
    },
    {
     "data": {
      "text/plain": [
       "True"
      ]
     },
     "execution_count": 27,
     "metadata": {},
     "output_type": "execute_result"
    }
   ],
   "source": [
    "from nltk import word_tokenize\n",
    "import nltk\n",
    "nltk.download('punkt')"
   ]
  },
  {
   "cell_type": "code",
   "execution_count": 29,
   "metadata": {},
   "outputs": [
    {
     "name": "stderr",
     "output_type": "stream",
     "text": [
      "[nltk_data] Downloading package wordnet to\n",
      "[nltk_data]     C:\\Users\\Mostafa\\AppData\\Roaming\\nltk_data...\n",
      "[nltk_data]   Package wordnet is already up-to-date!\n"
     ]
    },
    {
     "data": {
      "text/plain": [
       "True"
      ]
     },
     "execution_count": 29,
     "metadata": {},
     "output_type": "execute_result"
    }
   ],
   "source": [
    "import nltk\n",
    "nltk.download('wordnet')"
   ]
  },
  {
   "attachments": {},
   "cell_type": "markdown",
   "metadata": {},
   "source": [
    "Tokenizing and lemmetizing train dataset"
   ]
  },
  {
   "cell_type": "code",
   "execution_count": 30,
   "metadata": {},
   "outputs": [],
   "source": [
    "from nltk.stem import WordNetLemmatizer\n",
    "lemmatizer = WordNetLemmatizer()"
   ]
  },
  {
   "cell_type": "code",
   "execution_count": 31,
   "metadata": {},
   "outputs": [],
   "source": [
    "def lemmatize_text(text):\n",
    "    words = nltk.word_tokenize(text)\n",
    "    text_only_alphabets = [t for t in words if t.isalpha()]\n",
    "    lemmatized_words = [lemmatizer.lemmatize(word) for word in text_only_alphabets if word.lower() not in set(stopwords.words('english'))]\n",
    "    return ' '.join(lemmatized_words)"
   ]
  },
  {
   "cell_type": "code",
   "execution_count": 32,
   "metadata": {},
   "outputs": [],
   "source": [
    "df['all_info']  = df['all_info'].apply(lemmatize_text)"
   ]
  },
  {
   "cell_type": "code",
   "execution_count": 33,
   "metadata": {},
   "outputs": [],
   "source": [
    "df2['all_info']  = df2['all_info'].apply(lemmatize_text)"
   ]
  },
  {
   "cell_type": "code",
   "execution_count": 34,
   "metadata": {},
   "outputs": [
    {
     "data": {
      "text/plain": [
       "0     Construction Superintendent Noinformation Seek...\n",
       "1     Title Closer Settlement Agent Network Closing ...\n",
       "2     Developer CompanyWe ticketscript European mark...\n",
       "3     Web Developer Noinformation NAME Must extensiv...\n",
       "4     Program Manager Come part one fastest growing ...\n",
       "5     Big Data Technologies Snr Dev Adthena UK leadi...\n",
       "6     Global Social Media Marketing Manager Luxy Hai...\n",
       "7     Product Design Internship Frustrated status qu...\n",
       "8     min Veteran Interview gift card Noinformation ...\n",
       "9     Data Entry Noinformation Welcome one toughest ...\n",
       "10    Group Accountant Head Accounting Noinformation...\n",
       "11    E IC Engineer Noinformation Job incumbent resp...\n",
       "12    Business Intelligence BI Developer WORK IMAGIN...\n",
       "13    Public Relations Coordinator Noinformation loo...\n",
       "14    Product Manager NZ EROAD established modernise...\n",
       "15    Business Development Manager Wiredrive fast gr...\n",
       "16    Human Centered Industrial Designer Boston Cons...\n",
       "17    Data Quality Lead Vend looking awesome new tal...\n",
       "18    Electronics Service Engineer month fixed term ...\n",
       "19    Marketing Associate QB Medical Inc medical sup...\n",
       "Name: all_info, dtype: object"
      ]
     },
     "execution_count": 34,
     "metadata": {},
     "output_type": "execute_result"
    }
   ],
   "source": [
    "df2['all_info'].head(20)"
   ]
  },
  {
   "cell_type": "code",
   "execution_count": 39,
   "metadata": {},
   "outputs": [],
   "source": [
    "df.drop(columns=['job_title','company_information','job_description','job_requirements','benefits','employment_type','function'],axis=1,inplace=True)\n",
    "df2.drop(columns=['job_title','company_information','job_description','job_requirements','benefits','employment_type','function'],axis=1,inplace=True)"
   ]
  },
  {
   "cell_type": "code",
   "execution_count": 40,
   "metadata": {},
   "outputs": [],
   "source": [
    "df_train = pd.concat([df, y_train], axis=1)"
   ]
  },
  {
   "cell_type": "code",
   "execution_count": 41,
   "metadata": {},
   "outputs": [],
   "source": [
    "df_train.to_csv('df_train.csv')"
   ]
  },
  {
   "cell_type": "code",
   "execution_count": 42,
   "metadata": {},
   "outputs": [],
   "source": [
    "df_test = pd.concat([df2, y_test], axis=1)"
   ]
  },
  {
   "cell_type": "code",
   "execution_count": 43,
   "metadata": {},
   "outputs": [],
   "source": [
    "df_test.to_csv('df_test.csv')"
   ]
  },
  {
   "cell_type": "code",
   "execution_count": 75,
   "metadata": {},
   "outputs": [
    {
     "data": {
      "text/plain": [
       "0        Videographer / Editor / Photographer Dreamers ...\n",
       "1        Supply Chain Manager e shop Buyer charge expan...\n",
       "2        Digital Project Manager ConsumerTrack technolo...\n",
       "3        Global Communications Manager Founded team Goo...\n",
       "4        S3I Candidates Noinformation Adform premier pa...\n",
       "                               ...                        \n",
       "12836    Senior Luxury Beauty Salesperson first range c...\n",
       "12837    Senior Digital Account Manager Mindworks inter...\n",
       "12838    Interior Designer Schroeder Solutions full ser...\n",
       "12839    .NET Developer Provide Full Time Permanent Pos...\n",
       "12840    Senior Software Quality Engineer team Top Sour...\n",
       "Name: all_info, Length: 12841, dtype: object"
      ]
     },
     "execution_count": 75,
     "metadata": {},
     "output_type": "execute_result"
    }
   ],
   "source": [
    "df['all_info']"
   ]
  },
  {
   "attachments": {},
   "cell_type": "markdown",
   "metadata": {},
   "source": [
    "Using the csv file which contains lemmatized dataset"
   ]
  },
  {
   "cell_type": "code",
   "execution_count": 45,
   "metadata": {},
   "outputs": [],
   "source": [
    "df = pd.read_csv('df_train.csv')\n",
    "df2 = pd.read_csv('df_test.csv')\n",
    "y_train=df['fake?']\n",
    "df=df.drop(['fake?'],axis=1)\n",
    "y_test=df2['fake?']\n",
    "df2=df2.drop(['fake?'],axis=1)"
   ]
  },
  {
   "attachments": {},
   "cell_type": "markdown",
   "metadata": {},
   "source": [
    "Create an instance of CountVectorizer class"
   ]
  },
  {
   "cell_type": "code",
   "execution_count": 46,
   "metadata": {},
   "outputs": [
    {
     "name": "stdout",
     "output_type": "stream",
     "text": [
      "       aa  aaa  aac  aacbf  aace  aachen  aadd  aae  aaes  aafes  ...  zurich  \\\n",
      "0       0    0    0      0     0       0     0    0     0      0  ...       0   \n",
      "1       0    0    0      0     0       0     0    0     0      0  ...       0   \n",
      "2       0    0    0      0     0       0     0    0     0      0  ...       0   \n",
      "3       0    0    0      0     0       0     0    0     0      0  ...       0   \n",
      "4       0    0    0      0     0       0     0    0     0      0  ...       0   \n",
      "...    ..  ...  ...    ...   ...     ...   ...  ...   ...    ...  ...     ...   \n",
      "12836   0    0    0      0     0       0     0    0     0      0  ...       0   \n",
      "12837   0    0    0      0     0       0     0    0     0      0  ...       0   \n",
      "12838   0    0    0      0     0       0     0    0     0      0  ...       0   \n",
      "12839   0    0    0      0     0       0     0    0     0      0  ...       0   \n",
      "12840   0    0    0      0     0       0     0    0     0      0  ...       0   \n",
      "\n",
      "       zus  zusammenarbeitest  zusammenbringt  zutrifft  zweig  zyfax  zyka  \\\n",
      "0        0                  0               0         0      0      0     0   \n",
      "1        0                  0               0         0      0      0     0   \n",
      "2        0                  0               0         0      0      0     0   \n",
      "3        0                  0               0         0      0      0     0   \n",
      "4        0                  0               0         0      0      0     0   \n",
      "...    ...                ...             ...       ...    ...    ...   ...   \n",
      "12836    0                  0               0         0      0      0     0   \n",
      "12837    0                  0               0         0      0      0     0   \n",
      "12838    0                  0               0         0      0      0     0   \n",
      "12839    0                  0               0         0      0      0     0   \n",
      "12840    0                  0               0         0      0      0     0   \n",
      "\n",
      "       zylun  zynga  \n",
      "0          0      0  \n",
      "1          0      0  \n",
      "2          0      0  \n",
      "3          0      0  \n",
      "4          0      0  \n",
      "...      ...    ...  \n",
      "12836      0      0  \n",
      "12837      0      0  \n",
      "12838      0      0  \n",
      "12839      0      0  \n",
      "12840      0      0  \n",
      "\n",
      "[12841 rows x 75979 columns]\n"
     ]
    }
   ],
   "source": [
    "from sklearn.feature_extraction.text import CountVectorizer\n",
    "count_vectorizer = CountVectorizer()\n",
    "\n",
    "#We fit and transform the column of the data frame using the fit_transform() method of the count vectorizer. This creates a sparse matrix of term frequencies for each document in the corpus\n",
    "# fit and transform the using CountVectorizer\n",
    "bag_of_words = count_vectorizer.fit_transform(df['all_info'])\n",
    "\n",
    "# get the feature names (unique words) from CountVectorizer\n",
    "feature_names = count_vectorizer.get_feature_names_out()\n",
    "# print(feature_names)\n",
    "# create a new data frame using the bag of words matrix and feature names\n",
    "bow_df = pd.DataFrame(bag_of_words.toarray(), columns=feature_names)\n",
    "\n",
    "# print the resulting bag of words data frame\n",
    "print(bow_df)"
   ]
  },
  {
   "cell_type": "code",
   "execution_count": 47,
   "metadata": {},
   "outputs": [
    {
     "name": "stdout",
     "output_type": "stream",
     "text": [
      "(12841, 75979)\n"
     ]
    }
   ],
   "source": [
    "print(np.shape(bow_df))"
   ]
  },
  {
   "cell_type": "code",
   "execution_count": 48,
   "metadata": {},
   "outputs": [
    {
     "name": "stdout",
     "output_type": "stream",
     "text": [
      "<class 'pandas.core.frame.DataFrame'>\n",
      "RangeIndex: 12841 entries, 0 to 12840\n",
      "Data columns (total 48 columns):\n",
      " #   Column                  Non-Null Count  Dtype \n",
      "---  ------                  --------------  ----- \n",
      " 0   Unnamed: 0              12841 non-null  int64 \n",
      " 1   telecommuting           12841 non-null  int64 \n",
      " 2   company_logo_exist?     12841 non-null  int64 \n",
      " 3   has_questions           12841 non-null  int64 \n",
      " 4   Contract                12841 non-null  int64 \n",
      " 5   Full-time               12841 non-null  int64 \n",
      " 6   Other                   12841 non-null  int64 \n",
      " 7   Part-time               12841 non-null  int64 \n",
      " 8   Temporary               12841 non-null  int64 \n",
      " 9   Accounting/Auditing     12841 non-null  int64 \n",
      " 10  Administrative          12841 non-null  int64 \n",
      " 11  Advertising             12841 non-null  int64 \n",
      " 12  Art/Creative            12841 non-null  int64 \n",
      " 13  Business Analyst        12841 non-null  int64 \n",
      " 14  Business Development    12841 non-null  int64 \n",
      " 15  Consulting              12841 non-null  int64 \n",
      " 16  Customer Service        12841 non-null  int64 \n",
      " 17  Data Analyst            12841 non-null  int64 \n",
      " 18  Design                  12841 non-null  int64 \n",
      " 19  Distribution            12841 non-null  int64 \n",
      " 20  Education               12841 non-null  int64 \n",
      " 21  Engineering             12841 non-null  int64 \n",
      " 22  Finance                 12841 non-null  int64 \n",
      " 23  Financial Analyst       12841 non-null  int64 \n",
      " 24  General Business        12841 non-null  int64 \n",
      " 25  Health Care Provider    12841 non-null  int64 \n",
      " 26  Human Resources         12841 non-null  int64 \n",
      " 27  Information Technology  12841 non-null  int64 \n",
      " 28  Legal                   12841 non-null  int64 \n",
      " 29  Management              12841 non-null  int64 \n",
      " 30  Manufacturing           12841 non-null  int64 \n",
      " 31  Marketing               12841 non-null  int64 \n",
      " 32  Noinformation           12841 non-null  int64 \n",
      " 33  Other.1                 12841 non-null  int64 \n",
      " 34  Product Management      12841 non-null  int64 \n",
      " 35  Production              12841 non-null  int64 \n",
      " 36  Project Management      12841 non-null  int64 \n",
      " 37  Public Relations        12841 non-null  int64 \n",
      " 38  Purchasing              12841 non-null  int64 \n",
      " 39  Quality Assurance       12841 non-null  int64 \n",
      " 40  Research                12841 non-null  int64 \n",
      " 41  Sales                   12841 non-null  int64 \n",
      " 42  Science                 12841 non-null  int64 \n",
      " 43  Strategy/Planning       12841 non-null  int64 \n",
      " 44  Supply Chain            12841 non-null  int64 \n",
      " 45  Training                12841 non-null  int64 \n",
      " 46  Writing/Editing         12841 non-null  int64 \n",
      " 47  all_info                12841 non-null  object\n",
      "dtypes: int64(47), object(1)\n",
      "memory usage: 4.7+ MB\n"
     ]
    }
   ],
   "source": [
    "df.info()"
   ]
  },
  {
   "cell_type": "code",
   "execution_count": 49,
   "metadata": {},
   "outputs": [],
   "source": [
    "bow_df = pd.concat([bow_df, df], axis=1, join=\"inner\")"
   ]
  },
  {
   "cell_type": "code",
   "execution_count": 50,
   "metadata": {},
   "outputs": [],
   "source": [
    "bow_df.drop(columns=['all_info'],axis=1,inplace=True)"
   ]
  },
  {
   "cell_type": "code",
   "execution_count": 51,
   "metadata": {},
   "outputs": [
    {
     "name": "stdout",
     "output_type": "stream",
     "text": [
      "<class 'pandas.core.frame.DataFrame'>\n",
      "RangeIndex: 12841 entries, 0 to 12840\n",
      "Columns: 76026 entries, aa to Writing/Editing\n",
      "dtypes: int64(76026)\n",
      "memory usage: 7.3 GB\n"
     ]
    }
   ],
   "source": [
    "bow_df.info()"
   ]
  },
  {
   "cell_type": "code",
   "execution_count": 52,
   "metadata": {},
   "outputs": [
    {
     "name": "stdout",
     "output_type": "stream",
     "text": [
      "      aa  aaa  aac  aacbf  aace  aachen  aadd  aae  aaes  aafes  ...  zurich  \\\n",
      "0      0    0    0      0     0       0     0    0     0      0  ...       0   \n",
      "1      0    0    0      0     0       0     0    0     0      0  ...       0   \n",
      "2      0    0    0      0     0       0     0    0     0      0  ...       0   \n",
      "3      0    0    0      0     0       0     0    0     0      0  ...       0   \n",
      "4      0    0    0      0     0       0     0    0     0      0  ...       0   \n",
      "...   ..  ...  ...    ...   ...     ...   ...  ...   ...    ...  ...     ...   \n",
      "3192   0    0    0      0     0       0     0    0     0      0  ...       0   \n",
      "3193   0    0    0      0     0       0     0    0     0      0  ...       0   \n",
      "3194   0    0    0      0     0       0     0    0     0      0  ...       0   \n",
      "3195   0    0    0      0     0       0     0    0     0      0  ...       0   \n",
      "3196   0    0    0      0     0       0     0    0     0      0  ...       0   \n",
      "\n",
      "      zus  zusammenarbeitest  zusammenbringt  zutrifft  zweig  zyfax  zyka  \\\n",
      "0       0                  0               0         0      0      0     0   \n",
      "1       0                  0               0         0      0      0     0   \n",
      "2       0                  0               0         0      0      0     0   \n",
      "3       0                  0               0         0      0      0     0   \n",
      "4       0                  0               0         0      0      0     0   \n",
      "...   ...                ...             ...       ...    ...    ...   ...   \n",
      "3192    0                  0               0         0      0      0     0   \n",
      "3193    0                  0               0         0      0      0     0   \n",
      "3194    0                  0               0         0      0      0     0   \n",
      "3195    0                  0               0         0      0      0     0   \n",
      "3196    0                  0               0         0      0      0     0   \n",
      "\n",
      "      zylun  zynga  \n",
      "0         0      0  \n",
      "1         0      0  \n",
      "2         0      0  \n",
      "3         0      0  \n",
      "4         0      0  \n",
      "...     ...    ...  \n",
      "3192      0      0  \n",
      "3193      0      0  \n",
      "3194      0      0  \n",
      "3195      0      0  \n",
      "3196      0      0  \n",
      "\n",
      "[3197 rows x 75979 columns]\n"
     ]
    }
   ],
   "source": [
    "bag_of_words2 = count_vectorizer.transform(df2['all_info'])\n",
    "\n",
    "# get the feature names (unique words) from CountVectorizer\n",
    "feature_names = count_vectorizer.get_feature_names_out()\n",
    "# print(feature_names)\n",
    "# create a new data frame using the bag of words matrix and feature names\n",
    "bow_df2 = pd.DataFrame(bag_of_words2.toarray(), columns=feature_names)\n",
    "\n",
    "# print the resulting bag of words data frame\n",
    "print(bow_df2)"
   ]
  },
  {
   "cell_type": "code",
   "execution_count": 53,
   "metadata": {},
   "outputs": [],
   "source": [
    "bow_df2 = pd.concat([bow_df2, df2], axis=1)"
   ]
  },
  {
   "cell_type": "code",
   "execution_count": 54,
   "metadata": {},
   "outputs": [
    {
     "name": "stdout",
     "output_type": "stream",
     "text": [
      "(3197, 76027)\n"
     ]
    }
   ],
   "source": [
    "print(np.shape(bow_df2))"
   ]
  },
  {
   "cell_type": "code",
   "execution_count": 55,
   "metadata": {},
   "outputs": [],
   "source": [
    "bow_df2.drop(columns=['all_info'],axis=1,inplace=True)"
   ]
  },
  {
   "cell_type": "code",
   "execution_count": 56,
   "metadata": {},
   "outputs": [
    {
     "name": "stdout",
     "output_type": "stream",
     "text": [
      "<class 'pandas.core.frame.DataFrame'>\n",
      "RangeIndex: 3197 entries, 0 to 3196\n",
      "Columns: 76026 entries, aa to Writing/Editing\n",
      "dtypes: int64(76026)\n",
      "memory usage: 1.8 GB\n"
     ]
    }
   ],
   "source": [
    "bow_df2.info()"
   ]
  },
  {
   "cell_type": "code",
   "execution_count": 57,
   "metadata": {},
   "outputs": [
    {
     "data": {
      "text/plain": [
       "0"
      ]
     },
     "execution_count": 57,
     "metadata": {},
     "output_type": "execute_result"
    }
   ],
   "source": [
    "bow_df2.isnull().sum().sum()"
   ]
  },
  {
   "cell_type": "code",
   "execution_count": 58,
   "metadata": {},
   "outputs": [
    {
     "data": {
      "text/plain": [
       "False"
      ]
     },
     "execution_count": 58,
     "metadata": {},
     "output_type": "execute_result"
    }
   ],
   "source": [
    "bow_df2.isnull().values.any()"
   ]
  },
  {
   "cell_type": "code",
   "execution_count": 61,
   "metadata": {},
   "outputs": [],
   "source": [
    "bow_df2 = bow_df2.fillna(0)"
   ]
  },
  {
   "attachments": {},
   "cell_type": "markdown",
   "metadata": {},
   "source": [
    "TF-IDF"
   ]
  },
  {
   "cell_type": "code",
   "execution_count": 64,
   "metadata": {},
   "outputs": [
    {
     "name": "stdout",
     "output_type": "stream",
     "text": [
      "TF-IDF feature matrix shape: (12841, 75979)\n",
      "        aa  aaa  aac  aacbf  aace  aachen  aadd  aae  aaes  aafes  ...  \\\n",
      "0      0.0  0.0  0.0    0.0   0.0     0.0   0.0  0.0   0.0    0.0  ...   \n",
      "1      0.0  0.0  0.0    0.0   0.0     0.0   0.0  0.0   0.0    0.0  ...   \n",
      "2      0.0  0.0  0.0    0.0   0.0     0.0   0.0  0.0   0.0    0.0  ...   \n",
      "3      0.0  0.0  0.0    0.0   0.0     0.0   0.0  0.0   0.0    0.0  ...   \n",
      "4      0.0  0.0  0.0    0.0   0.0     0.0   0.0  0.0   0.0    0.0  ...   \n",
      "...    ...  ...  ...    ...   ...     ...   ...  ...   ...    ...  ...   \n",
      "12836  0.0  0.0  0.0    0.0   0.0     0.0   0.0  0.0   0.0    0.0  ...   \n",
      "12837  0.0  0.0  0.0    0.0   0.0     0.0   0.0  0.0   0.0    0.0  ...   \n",
      "12838  0.0  0.0  0.0    0.0   0.0     0.0   0.0  0.0   0.0    0.0  ...   \n",
      "12839  0.0  0.0  0.0    0.0   0.0     0.0   0.0  0.0   0.0    0.0  ...   \n",
      "12840  0.0  0.0  0.0    0.0   0.0     0.0   0.0  0.0   0.0    0.0  ...   \n",
      "\n",
      "       zurich  zus  zusammenarbeitest  zusammenbringt  zutrifft  zweig  zyfax  \\\n",
      "0         0.0  0.0                0.0             0.0       0.0    0.0    0.0   \n",
      "1         0.0  0.0                0.0             0.0       0.0    0.0    0.0   \n",
      "2         0.0  0.0                0.0             0.0       0.0    0.0    0.0   \n",
      "3         0.0  0.0                0.0             0.0       0.0    0.0    0.0   \n",
      "4         0.0  0.0                0.0             0.0       0.0    0.0    0.0   \n",
      "...       ...  ...                ...             ...       ...    ...    ...   \n",
      "12836     0.0  0.0                0.0             0.0       0.0    0.0    0.0   \n",
      "12837     0.0  0.0                0.0             0.0       0.0    0.0    0.0   \n",
      "12838     0.0  0.0                0.0             0.0       0.0    0.0    0.0   \n",
      "12839     0.0  0.0                0.0             0.0       0.0    0.0    0.0   \n",
      "12840     0.0  0.0                0.0             0.0       0.0    0.0    0.0   \n",
      "\n",
      "       zyka  zylun  zynga  \n",
      "0       0.0    0.0    0.0  \n",
      "1       0.0    0.0    0.0  \n",
      "2       0.0    0.0    0.0  \n",
      "3       0.0    0.0    0.0  \n",
      "4       0.0    0.0    0.0  \n",
      "...     ...    ...    ...  \n",
      "12836   0.0    0.0    0.0  \n",
      "12837   0.0    0.0    0.0  \n",
      "12838   0.0    0.0    0.0  \n",
      "12839   0.0    0.0    0.0  \n",
      "12840   0.0    0.0    0.0  \n",
      "\n",
      "[12841 rows x 75979 columns]\n",
      "(12841, 75979)\n"
     ]
    }
   ],
   "source": [
    "import pandas as pd\n",
    "from sklearn.feature_extraction.text import TfidfVectorizer\n",
    "\n",
    "\n",
    "text_column = 'all_info'\n",
    "\n",
    "# Create a TF-IDF vectorizer object\n",
    "tfidf_vectorizer = TfidfVectorizer()\n",
    "\n",
    "# Fit the vectorizer object on the text column\n",
    "X_train_tfidf = tfidf_vectorizer.fit_transform(df['all_info'])\n",
    "\n",
    "# # Transform the text column into a sparse matrix of TF-IDF features\n",
    "# tfidf_features = tfidf_vectorizer.transform(df['all_info'])\n",
    "\n",
    "# Print the feature matrix shape\n",
    "print('TF-IDF feature matrix shape:', X_train_tfidf.shape)\n",
    "tfidf_df = pd.DataFrame(X_train_tfidf.toarray(), columns=feature_names)\n",
    "\n",
    "print(tfidf_df)\n",
    "print(tfidf_df.shape)"
   ]
  },
  {
   "cell_type": "code",
   "execution_count": 65,
   "metadata": {},
   "outputs": [],
   "source": [
    "tfidf_df = pd.concat([tfidf_df, df], axis=1)"
   ]
  },
  {
   "cell_type": "code",
   "execution_count": 66,
   "metadata": {},
   "outputs": [],
   "source": [
    "tfidf_df.drop(columns=['all_info'],axis=1,inplace=True)\n"
   ]
  },
  {
   "cell_type": "code",
   "execution_count": 67,
   "metadata": {},
   "outputs": [
    {
     "name": "stdout",
     "output_type": "stream",
     "text": [
      "TF-IDF feature matrix shape: (3197, 75979)\n",
      "  (0, 75534)\t0.0635550412286492\n",
      "  (0, 74957)\t0.03621541586569052\n",
      "  (0, 74757)\t0.06766229226145005\n",
      "  (0, 74507)\t0.08808033819053816\n",
      "  (0, 74317)\t0.1400959339387933\n",
      "  (0, 74239)\t0.04314295951883531\n",
      "  (0, 73762)\t0.10750335442311164\n",
      "  (0, 73242)\t0.061576848914721476\n",
      "  (0, 72767)\t0.09274484300460135\n",
      "  (0, 72594)\t0.05578296109861605\n",
      "  (0, 72356)\t0.05142020172891127\n",
      "  (0, 70725)\t0.06106383822874931\n",
      "  (0, 69915)\t0.054827319426773206\n",
      "  (0, 69480)\t0.03376593215577584\n",
      "  (0, 69476)\t0.20281347503710198\n",
      "  (0, 69452)\t0.09743014840708358\n",
      "  (0, 66212)\t0.04496396161900989\n",
      "  (0, 66053)\t0.08841391124921026\n",
      "  (0, 66048)\t0.11489447068282437\n",
      "  (0, 66033)\t0.3041988355928434\n",
      "  (0, 65752)\t0.054439032644940204\n",
      "  (0, 65578)\t0.14955364477956992\n",
      "  (0, 61889)\t0.06594170443785301\n",
      "  (0, 61863)\t0.19439420439132019\n",
      "  (0, 61390)\t0.08094059812621768\n",
      "  :\t:\n",
      "  (3196, 9001)\t0.024799034006102387\n",
      "  (3196, 8994)\t0.09477818147962681\n",
      "  (3196, 8986)\t0.120414051553594\n",
      "  (3196, 8822)\t0.09477818147962681\n",
      "  (3196, 8337)\t0.10521832527820658\n",
      "  (3196, 8248)\t0.04703701517020692\n",
      "  (3196, 8197)\t0.09091281652719213\n",
      "  (3196, 7917)\t0.10332347150428252\n",
      "  (3196, 7907)\t0.061599870560616186\n",
      "  (3196, 6777)\t0.027182647624482633\n",
      "  (3196, 6068)\t0.02416865764595104\n",
      "  (3196, 6049)\t0.04229209531249181\n",
      "  (3196, 5318)\t0.12643252845102362\n",
      "  (3196, 5203)\t0.04858968005283477\n",
      "  (3196, 5127)\t0.06315685086935591\n",
      "  (3196, 4451)\t0.04871762446700043\n",
      "  (3196, 2412)\t0.05212417964050505\n",
      "  (3196, 2285)\t0.027017208013469126\n",
      "  (3196, 1780)\t0.03555302084544171\n",
      "  (3196, 1093)\t0.04330345349340081\n",
      "  (3196, 1027)\t0.06760493605341014\n",
      "  (3196, 813)\t0.045962981487191905\n",
      "  (3196, 795)\t0.09574549752489572\n",
      "  (3196, 446)\t0.06098842719294738\n",
      "  (3196, 117)\t0.024001737325888794\n"
     ]
    }
   ],
   "source": [
    "X_test_tfidf = tfidf_vectorizer.transform(df2['all_info'])\n",
    "\n",
    "# # Transform the text column into a sparse matrix of TF-IDF features\n",
    "# tfidf_features = tfidf_vectorizer.transform(df['all_info'])\n",
    "\n",
    "# Print the feature matrix shape\n",
    "print('TF-IDF feature matrix shape:', X_test_tfidf.shape)\n",
    "tfidf_df2 = pd.DataFrame(X_train_tfidf.toarray(), columns=feature_names)\n",
    "\n",
    "print(X_test_tfidf)\n"
   ]
  },
  {
   "cell_type": "code",
   "execution_count": 68,
   "metadata": {},
   "outputs": [],
   "source": [
    "tfidf_df2 = pd.concat([tfidf_df2, df2], axis=1, join=\"inner\")"
   ]
  },
  {
   "cell_type": "code",
   "execution_count": 69,
   "metadata": {},
   "outputs": [],
   "source": [
    "tfidf_df2.drop(columns=['all_info'],axis=1,inplace=True)"
   ]
  },
  {
   "cell_type": "code",
   "execution_count": 70,
   "metadata": {},
   "outputs": [
    {
     "data": {
      "text/plain": [
       "0"
      ]
     },
     "execution_count": 70,
     "metadata": {},
     "output_type": "execute_result"
    }
   ],
   "source": [
    "tfidf_df2.isnull().sum().sum()"
   ]
  },
  {
   "cell_type": "code",
   "execution_count": 71,
   "metadata": {},
   "outputs": [
    {
     "data": {
      "text/plain": [
       "False"
      ]
     },
     "execution_count": 71,
     "metadata": {},
     "output_type": "execute_result"
    }
   ],
   "source": [
    "tfidf_df2.isnull().values.any()"
   ]
  },
  {
   "cell_type": "code",
   "execution_count": 72,
   "metadata": {},
   "outputs": [
    {
     "data": {
      "text/plain": [
       "(12841, 76026)"
      ]
     },
     "execution_count": 72,
     "metadata": {},
     "output_type": "execute_result"
    }
   ],
   "source": [
    "tfidf_df.shape"
   ]
  },
  {
   "cell_type": "code",
   "execution_count": 73,
   "metadata": {},
   "outputs": [
    {
     "data": {
      "text/plain": [
       "(3197, 76026)"
      ]
     },
     "execution_count": 73,
     "metadata": {},
     "output_type": "execute_result"
    }
   ],
   "source": [
    "tfidf_df2.shape"
   ]
  },
  {
   "attachments": {},
   "cell_type": "markdown",
   "metadata": {},
   "source": [
    "Model"
   ]
  },
  {
   "cell_type": "code",
   "execution_count": 74,
   "metadata": {},
   "outputs": [],
   "source": [
    "from sklearn.metrics import accuracy_score\n",
    "from sklearn.metrics import confusion_matrix \n",
    "from sklearn.linear_model import LogisticRegression\n",
    "from sklearn.metrics import classification_report\n",
    "from sklearn.model_selection import train_test_split\n",
    "from sklearn.model_selection import cross_val_score\n",
    "from sklearn.naive_bayes import MultinomialNB"
   ]
  },
  {
   "cell_type": "code",
   "execution_count": 75,
   "metadata": {},
   "outputs": [
    {
     "data": {
      "text/plain": [
       "(3197,)"
      ]
     },
     "execution_count": 75,
     "metadata": {},
     "output_type": "execute_result"
    }
   ],
   "source": [
    "y_test.shape"
   ]
  },
  {
   "cell_type": "code",
   "execution_count": 76,
   "metadata": {},
   "outputs": [
    {
     "name": "stderr",
     "output_type": "stream",
     "text": [
      "c:\\Users\\Mostafa\\AppData\\Local\\Programs\\Python\\Python310\\lib\\site-packages\\sklearn\\linear_model\\_logistic.py:458: ConvergenceWarning: lbfgs failed to converge (status=1):\n",
      "STOP: TOTAL NO. of ITERATIONS REACHED LIMIT.\n",
      "\n",
      "Increase the number of iterations (max_iter) or scale the data as shown in:\n",
      "    https://scikit-learn.org/stable/modules/preprocessing.html\n",
      "Please also refer to the documentation for alternative solver options:\n",
      "    https://scikit-learn.org/stable/modules/linear_model.html#logistic-regression\n",
      "  n_iter_i = _check_optimize_result(\n"
     ]
    },
    {
     "name": "stdout",
     "output_type": "stream",
     "text": [
      "Logistic Regression using all the features:\n",
      "Accuracy: \n",
      " 0.9305598999061621\n",
      "Accuracy report: \n",
      "               precision    recall  f1-score   support\n",
      "\n",
      "          no       0.99      0.94      0.96      3030\n",
      "         yes       0.42      0.84      0.56       167\n",
      "\n",
      "    accuracy                           0.93      3197\n",
      "   macro avg       0.70      0.89      0.76      3197\n",
      "weighted avg       0.96      0.93      0.94      3197\n",
      "\n",
      "Confusion Matrix: \n",
      " [[2834  196]\n",
      " [  26  141]]\n"
     ]
    }
   ],
   "source": [
    "#Using logistic regression as before with parameters Penalty 'l2', solver 'lbfgs' and multi_class as 'ovr'\n",
    "#set the parameter class_weight as 'balanced'\n",
    "#Bag of words\n",
    "classifier = LogisticRegression(penalty='l2',solver='lbfgs',multi_class='ovr',class_weight='balanced')\n",
    "classifier.fit(bow_df , y_train)\n",
    "prediction=classifier.predict(bow_df2)\n",
    "#model_score = accuracy_score(y_train, prediction)\n",
    "model_score = accuracy_score(y_test, prediction)\n",
    "class_report=classification_report(y_test, prediction)\n",
    "# Print the accuracy report, scores and confusion matrix\n",
    "print(\"Logistic Regression using all the features:\")\n",
    "print(\"Accuracy:\",\"\\n\", model_score)\n",
    "print(\"Accuracy report:\",\"\\n\", class_report)\n",
    "print(\"Confusion Matrix:\",\"\\n\", confusion_matrix(y_test, prediction))"
   ]
  },
  {
   "cell_type": "code",
   "execution_count": 77,
   "metadata": {},
   "outputs": [
    {
     "data": {
      "image/png": "[encoded data removed]",
      "text/plain": [
       "<Figure size 432x288 with 2 Axes>"
      ]
     },
     "metadata": {
      "needs_background": "light"
     },
     "output_type": "display_data"
    }
   ],
   "source": [
    "from sklearn.metrics import confusion_matrix\n",
    "\n",
    "cf_matrix = confusion_matrix(y_test, prediction)\n",
    "group_names = [\"True Neg\",\"False Pos\", \"False Neg\", \"True Pos\"]\n",
    "group_counts = [\"{0:0.0f}\".format(value) for value in\n",
    "                cf_matrix.flatten()]\n",
    "group_percentages = [\"{0:.2%}\".format(value) for value in\n",
    "                      cf_matrix.flatten()/np.sum(cf_matrix)]\n",
    "labels = [f'{v1}\\n{v2}\\n{v3}' for v1, v2, v3 in\n",
    "          zip(group_names,group_counts,group_percentages)]\n",
    "labels = np.asarray(labels).reshape(2,2)\n",
    "sns.heatmap(cf_matrix, annot=labels, fmt='', cmap='Blues');\n",
    "plt.show()"
   ]
  },
  {
   "cell_type": "code",
   "execution_count": 81,
   "metadata": {},
   "outputs": [
    {
     "name": "stderr",
     "output_type": "stream",
     "text": [
      "c:\\Users\\Mostafa\\AppData\\Local\\Programs\\Python\\Python310\\lib\\site-packages\\sklearn\\linear_model\\_logistic.py:458: ConvergenceWarning: lbfgs failed to converge (status=1):\n",
      "STOP: TOTAL NO. of ITERATIONS REACHED LIMIT.\n",
      "\n",
      "Increase the number of iterations (max_iter) or scale the data as shown in:\n",
      "    https://scikit-learn.org/stable/modules/preprocessing.html\n",
      "Please also refer to the documentation for alternative solver options:\n",
      "    https://scikit-learn.org/stable/modules/linear_model.html#logistic-regression\n",
      "  n_iter_i = _check_optimize_result(\n"
     ]
    },
    {
     "name": "stdout",
     "output_type": "stream",
     "text": [
      "Logistic Regression using all the features:\n",
      "Accuracy: \n",
      " 0.945573975602127\n",
      "Accuracy report: \n",
      "               precision    recall  f1-score   support\n",
      "\n",
      "          no       0.99      0.95      0.97      3030\n",
      "         yes       0.49      0.87      0.63       167\n",
      "\n",
      "    accuracy                           0.95      3197\n",
      "   macro avg       0.74      0.91      0.80      3197\n",
      "weighted avg       0.97      0.95      0.95      3197\n",
      "\n",
      "Confusion Matrix: \n",
      " [[2877  153]\n",
      " [  21  146]]\n"
     ]
    }
   ],
   "source": [
    "#Using logistic regression as before with parameters penalty='elasticnet,C=100 and solver = 'newton-cg'\n",
    "#Bag of words\n",
    "classifier = LogisticRegression(penalty='l2', solver='lbfgs', multi_class='ovr', class_weight='balanced', C=0.1)\n",
    "classifier.fit(bow_df , y_train)\n",
    "prediction=classifier.predict(bow_df2)\n",
    "#model_score = accuracy_score(y_train, prediction)\n",
    "model_score = accuracy_score(y_test, prediction)\n",
    "class_report=classification_report(y_test, prediction)\n",
    "# Print the accuracy report, scores and confusion matrix\n",
    "print(\"Logistic Regression using all the features:\")\n",
    "print(\"Accuracy:\",\"\\n\", model_score)\n",
    "print(\"Accuracy report:\",\"\\n\", class_report)\n",
    "print(\"Confusion Matrix:\",\"\\n\", confusion_matrix(y_test, prediction))"
   ]
  },
  {
   "cell_type": "code",
   "execution_count": 82,
   "metadata": {},
   "outputs": [
    {
     "data": {
      "image/png": "[encoded data removed]",
      "text/plain": [
       "<Figure size 432x288 with 2 Axes>"
      ]
     },
     "metadata": {
      "needs_background": "light"
     },
     "output_type": "display_data"
    }
   ],
   "source": [
    "from sklearn.metrics import confusion_matrix\n",
    "\n",
    "cf_matrix = confusion_matrix(y_test, prediction)\n",
    "group_names = [\"True Neg\",\"False Pos\", \"False Neg\", \"True Pos\"]\n",
    "group_counts = [\"{0:0.0f}\".format(value) for value in\n",
    "                cf_matrix.flatten()]\n",
    "group_percentages = [\"{0:.2%}\".format(value) for value in\n",
    "                      cf_matrix.flatten()/np.sum(cf_matrix)]\n",
    "labels = [f'{v1}\\n{v2}\\n{v3}' for v1, v2, v3 in\n",
    "          zip(group_names,group_counts,group_percentages)]\n",
    "labels = np.asarray(labels).reshape(2,2)\n",
    "sns.heatmap(cf_matrix, annot=labels, fmt='', cmap='Blues');\n",
    "plt.show()"
   ]
  },
  {
   "cell_type": "code",
   "execution_count": 83,
   "metadata": {},
   "outputs": [
    {
     "name": "stdout",
     "output_type": "stream",
     "text": [
      "(3197,)\n",
      "(3197,)\n"
     ]
    }
   ],
   "source": [
    "print(np.shape(prediction))\n",
    "print(np.shape(y_test))"
   ]
  },
  {
   "cell_type": "code",
   "execution_count": 84,
   "metadata": {},
   "outputs": [
    {
     "name": "stdout",
     "output_type": "stream",
     "text": [
      "Naive Bayes Results will all features:\n",
      "Accuracy: \n",
      " 0.9765405067250548\n",
      "Accuracy report: \n",
      "               precision    recall  f1-score   support\n",
      "\n",
      "          no       0.98      0.99      0.99      3030\n",
      "         yes       0.83      0.69      0.75       167\n",
      "\n",
      "    accuracy                           0.98      3197\n",
      "   macro avg       0.91      0.84      0.87      3197\n",
      "weighted avg       0.98      0.98      0.98      3197\n",
      "\n",
      "Confusion Matrix: \n",
      " [[3007   23]\n",
      " [  52  115]]\n"
     ]
    }
   ],
   "source": [
    "#using Naive Bayes with smoothing factor value as 1 and make predictionb on test data\n",
    "#Bag of words\n",
    "clf = MultinomialNB(alpha=1.0)\n",
    "clf.fit(bow_df , y_train)\n",
    "pred = clf.predict(bow_df2)\n",
    "scores = accuracy_score(y_test, pred)\n",
    "report=classification_report(y_test, pred)\n",
    "# Print the accuracy report, scores and confusion matrix\n",
    "print(\"Naive Bayes Results will all features:\")\n",
    "print(\"Accuracy:\",\"\\n\",scores)\n",
    "print(\"Accuracy report:\",\"\\n\",report)\n",
    "print(\"Confusion Matrix:\",\"\\n\",confusion_matrix(y_test, pred))"
   ]
  },
  {
   "cell_type": "code",
   "execution_count": 85,
   "metadata": {},
   "outputs": [
    {
     "data": {
      "image/png": "[encoded data removed]",
      "text/plain": [
       "<Figure size 432x288 with 2 Axes>"
      ]
     },
     "metadata": {
      "needs_background": "light"
     },
     "output_type": "display_data"
    }
   ],
   "source": [
    "from sklearn.metrics import confusion_matrix\n",
    "\n",
    "cf_matrix = confusion_matrix(y_test, pred)\n",
    "group_names = [\"True Neg\",\"False Pos\", \"False Neg\", \"True Pos\"]\n",
    "group_counts = [\"{0:0.0f}\".format(value) for value in\n",
    "                cf_matrix.flatten()]\n",
    "group_percentages = [\"{0:.2%}\".format(value) for value in\n",
    "                      cf_matrix.flatten()/np.sum(cf_matrix)]\n",
    "labels = [f'{v1}\\n{v2}\\n{v3}' for v1, v2, v3 in\n",
    "          zip(group_names,group_counts,group_percentages)]\n",
    "labels = np.asarray(labels).reshape(2,2)\n",
    "sns.heatmap(cf_matrix, annot=labels, fmt='', cmap='Blues');\n",
    "plt.show()"
   ]
  },
  {
   "cell_type": "code",
   "execution_count": 86,
   "metadata": {},
   "outputs": [
    {
     "name": "stderr",
     "output_type": "stream",
     "text": [
      "c:\\Users\\Mostafa\\AppData\\Local\\Programs\\Python\\Python310\\lib\\site-packages\\sklearn\\linear_model\\_stochastic_gradient.py:163: FutureWarning: The loss 'log' was deprecated in v1.1 and will be removed in version 1.3. Use `loss='log_loss'` which is equivalent.\n",
      "  warnings.warn(\n"
     ]
    },
    {
     "name": "stdout",
     "output_type": "stream",
     "text": [
      "SGD Results will all features:\n",
      "Accuracy: \n",
      " 0.9480763215514545\n",
      "Accuracy report: \n",
      "               precision    recall  f1-score   support\n",
      "\n",
      "          no       0.95      1.00      0.97      3030\n",
      "         yes       0.67      0.01      0.02       167\n",
      "\n",
      "    accuracy                           0.95      3197\n",
      "   macro avg       0.81      0.51      0.50      3197\n",
      "weighted avg       0.93      0.95      0.92      3197\n",
      "\n"
     ]
    }
   ],
   "source": [
    "#using SGD classification\n",
    "#Bag of words\n",
    "from sklearn.linear_model import SGDClassifier\n",
    "from sklearn import metrics\n",
    "clf_log = SGDClassifier(loss='log').fit(bow_df, y_train)\n",
    "pred_log = clf_log.predict(bow_df2)\n",
    "scoresSGD=accuracy_score(y_test, pred_log)\n",
    "reportSGD=classification_report(y_test, pred_log)\n",
    "print(\"SGD Results will all features:\")\n",
    "print(\"Accuracy:\",\"\\n\",scoresSGD)\n",
    "print(\"Accuracy report:\",\"\\n\",reportSGD)\n",
    "# print(\"Confusion Matrix:\",\"\\n\",confusion_matrix(y_test, pred_log))"
   ]
  },
  {
   "cell_type": "code",
   "execution_count": 87,
   "metadata": {},
   "outputs": [
    {
     "data": {
      "image/png": "[encoded data removed]",
      "text/plain": [
       "<Figure size 432x288 with 2 Axes>"
      ]
     },
     "metadata": {
      "needs_background": "light"
     },
     "output_type": "display_data"
    }
   ],
   "source": [
    "from sklearn.metrics import confusion_matrix\n",
    "\n",
    "cf_matrix = confusion_matrix(y_test, pred_log)\n",
    "group_names = [\"True Neg\",\"False Pos\", \"False Neg\", \"True Pos\"]\n",
    "group_counts = [\"{0:0.0f}\".format(value) for value in\n",
    "                cf_matrix.flatten()]\n",
    "group_percentages = [\"{0:.2%}\".format(value) for value in\n",
    "                      cf_matrix.flatten()/np.sum(cf_matrix)]\n",
    "labels = [f'{v1}\\n{v2}\\n{v3}' for v1, v2, v3 in\n",
    "          zip(group_names,group_counts,group_percentages)]\n",
    "labels = np.asarray(labels).reshape(2,2)\n",
    "sns.heatmap(cf_matrix, annot=labels, fmt='', cmap='Blues');\n",
    "plt.show()"
   ]
  },
  {
   "cell_type": "code",
   "execution_count": 88,
   "metadata": {},
   "outputs": [
    {
     "name": "stderr",
     "output_type": "stream",
     "text": [
      "c:\\Users\\Mostafa\\AppData\\Local\\Programs\\Python\\Python310\\lib\\site-packages\\sklearn\\linear_model\\_logistic.py:458: ConvergenceWarning: lbfgs failed to converge (status=1):\n",
      "STOP: TOTAL NO. of ITERATIONS REACHED LIMIT.\n",
      "\n",
      "Increase the number of iterations (max_iter) or scale the data as shown in:\n",
      "    https://scikit-learn.org/stable/modules/preprocessing.html\n",
      "Please also refer to the documentation for alternative solver options:\n",
      "    https://scikit-learn.org/stable/modules/linear_model.html#logistic-regression\n",
      "  n_iter_i = _check_optimize_result(\n"
     ]
    },
    {
     "name": "stdout",
     "output_type": "stream",
     "text": [
      "Logistic Regression using all the features:\n",
      "Accuracy: \n",
      " 0.8145136065060995\n",
      "Accuracy report: \n",
      "               precision    recall  f1-score   support\n",
      "\n",
      "          no       0.97      0.83      0.89      3030\n",
      "         yes       0.16      0.59      0.25       167\n",
      "\n",
      "    accuracy                           0.81      3197\n",
      "   macro avg       0.57      0.71      0.57      3197\n",
      "weighted avg       0.93      0.81      0.86      3197\n",
      "\n",
      "Confusion Matrix: \n",
      " [[2505  525]\n",
      " [  68   99]]\n"
     ]
    }
   ],
   "source": [
    "#Using logistic regression as before with parameters Penalty 'l2', solver 'lbfgs' and multi_class as 'ovr'\n",
    "#set the parameter class_weight as 'balanced'\n",
    "#tfidf\n",
    "classifier = LogisticRegression(penalty='l2',solver='lbfgs',multi_class='ovr',class_weight='balanced')\n",
    "classifier.fit(tfidf_df , y_train)\n",
    "prediction=classifier.predict(tfidf_df2)\n",
    "model_score = accuracy_score(y_test, prediction)\n",
    "class_report=classification_report(y_test, prediction)\n",
    "# Print the accuracy report, scores and confusion matrix\n",
    "print(\"Logistic Regression using all the features:\")\n",
    "print(\"Accuracy:\",\"\\n\", model_score)\n",
    "print(\"Accuracy report:\",\"\\n\", class_report)\n",
    "print(\"Confusion Matrix:\",\"\\n\", confusion_matrix(y_test, prediction))"
   ]
  },
  {
   "cell_type": "code",
   "execution_count": 89,
   "metadata": {},
   "outputs": [
    {
     "data": {
      "image/png": "[encoded data removed]",
      "text/plain": [
       "<Figure size 432x288 with 2 Axes>"
      ]
     },
     "metadata": {
      "needs_background": "light"
     },
     "output_type": "display_data"
    }
   ],
   "source": [
    "from sklearn.metrics import confusion_matrix\n",
    "\n",
    "cf_matrix = confusion_matrix(y_test, prediction)\n",
    "group_names = [\"True Neg\",\"False Pos\", \"False Neg\", \"True Pos\"]\n",
    "group_counts = [\"{0:0.0f}\".format(value) for value in\n",
    "                cf_matrix.flatten()]\n",
    "group_percentages = [\"{0:.2%}\".format(value) for value in\n",
    "                      cf_matrix.flatten()/np.sum(cf_matrix)]\n",
    "labels = [f'{v1}\\n{v2}\\n{v3}' for v1, v2, v3 in\n",
    "          zip(group_names,group_counts,group_percentages)]\n",
    "labels = np.asarray(labels).reshape(2,2)\n",
    "sns.heatmap(cf_matrix, annot=labels, fmt='', cmap='Blues');\n",
    "plt.show()"
   ]
  },
  {
   "cell_type": "code",
   "execution_count": 90,
   "metadata": {},
   "outputs": [
    {
     "name": "stdout",
     "output_type": "stream",
     "text": [
      "Naive Bayes Results with all features:\n",
      "Accuracy: \n",
      " 0.9020957147325618\n",
      "Accuracy report: \n",
      "               precision    recall  f1-score   support\n",
      "\n",
      "          no       0.95      0.95      0.95      3030\n",
      "         yes       0.07      0.07      0.07       167\n",
      "\n",
      "    accuracy                           0.90      3197\n",
      "   macro avg       0.51      0.51      0.51      3197\n",
      "weighted avg       0.90      0.90      0.90      3197\n",
      "\n",
      "Confusion Matrix: \n",
      " [[2872  158]\n",
      " [ 155   12]]\n"
     ]
    }
   ],
   "source": [
    "#tfidf\n",
    "clf = MultinomialNB(alpha=1.0)\n",
    "clf.fit(tfidf_df , y_train)\n",
    "pred = clf.predict(tfidf_df2)\n",
    "scores = accuracy_score(y_test, pred)\n",
    "report=classification_report(y_test, pred)\n",
    "# Print the accuracy report, scores and confusion matrix\n",
    "print(\"Naive Bayes Results with all features:\")\n",
    "print(\"Accuracy:\",\"\\n\",scores)\n",
    "print(\"Accuracy report:\",\"\\n\",report)\n",
    "print(\"Confusion Matrix:\",\"\\n\",confusion_matrix(y_test, pred))"
   ]
  },
  {
   "cell_type": "code",
   "execution_count": 91,
   "metadata": {},
   "outputs": [
    {
     "data": {
      "image/png": "[encoded data removed]",
      "text/plain": [
       "<Figure size 432x288 with 2 Axes>"
      ]
     },
     "metadata": {
      "needs_background": "light"
     },
     "output_type": "display_data"
    }
   ],
   "source": [
    "from sklearn.metrics import confusion_matrix\n",
    "\n",
    "cf_matrix = confusion_matrix(y_test, pred)\n",
    "group_names = [\"True Neg\",\"False Pos\", \"False Neg\", \"True Pos\"]\n",
    "group_counts = [\"{0:0.0f}\".format(value) for value in\n",
    "                cf_matrix.flatten()]\n",
    "group_percentages = [\"{0:.2%}\".format(value) for value in\n",
    "                      cf_matrix.flatten()/np.sum(cf_matrix)]\n",
    "labels = [f'{v1}\\n{v2}\\n{v3}' for v1, v2, v3 in\n",
    "          zip(group_names,group_counts,group_percentages)]\n",
    "labels = np.asarray(labels).reshape(2,2)\n",
    "sns.heatmap(cf_matrix, annot=labels, fmt='', cmap='Blues');\n",
    "plt.show()"
   ]
  },
  {
   "cell_type": "code",
   "execution_count": 92,
   "metadata": {},
   "outputs": [
    {
     "name": "stderr",
     "output_type": "stream",
     "text": [
      "c:\\Users\\Mostafa\\AppData\\Local\\Programs\\Python\\Python310\\lib\\site-packages\\sklearn\\linear_model\\_stochastic_gradient.py:163: FutureWarning: The loss 'log' was deprecated in v1.1 and will be removed in version 1.3. Use `loss='log_loss'` which is equivalent.\n",
      "  warnings.warn(\n"
     ]
    },
    {
     "name": "stdout",
     "output_type": "stream",
     "text": [
      "SGD Results will all features:\n",
      "Accuracy: \n",
      " 0.9477635283077885\n",
      "Accuracy report: \n",
      "               precision    recall  f1-score   support\n",
      "\n",
      "          no       0.95      1.00      0.97      3030\n",
      "         yes       0.00      0.00      0.00       167\n",
      "\n",
      "    accuracy                           0.95      3197\n",
      "   macro avg       0.47      0.50      0.49      3197\n",
      "weighted avg       0.90      0.95      0.92      3197\n",
      "\n"
     ]
    },
    {
     "name": "stderr",
     "output_type": "stream",
     "text": [
      "c:\\Users\\Mostafa\\AppData\\Local\\Programs\\Python\\Python310\\lib\\site-packages\\sklearn\\metrics\\_classification.py:1344: UndefinedMetricWarning: Precision and F-score are ill-defined and being set to 0.0 in labels with no predicted samples. Use `zero_division` parameter to control this behavior.\n",
      "  _warn_prf(average, modifier, msg_start, len(result))\n",
      "c:\\Users\\Mostafa\\AppData\\Local\\Programs\\Python\\Python310\\lib\\site-packages\\sklearn\\metrics\\_classification.py:1344: UndefinedMetricWarning: Precision and F-score are ill-defined and being set to 0.0 in labels with no predicted samples. Use `zero_division` parameter to control this behavior.\n",
      "  _warn_prf(average, modifier, msg_start, len(result))\n",
      "c:\\Users\\Mostafa\\AppData\\Local\\Programs\\Python\\Python310\\lib\\site-packages\\sklearn\\metrics\\_classification.py:1344: UndefinedMetricWarning: Precision and F-score are ill-defined and being set to 0.0 in labels with no predicted samples. Use `zero_division` parameter to control this behavior.\n",
      "  _warn_prf(average, modifier, msg_start, len(result))\n"
     ]
    }
   ],
   "source": [
    "#SGD tf-idf\n",
    "clf_log2 = SGDClassifier(loss='log').fit(tfidf_df, y_train)\n",
    "pred_tf = clf_log2.predict(tfidf_df2)\n",
    "scoresSGD=accuracy_score(y_test, pred_tf)\n",
    "reportSGD=classification_report(y_test, pred_tf)\n",
    "print(\"SGD Results will all features:\")\n",
    "print(\"Accuracy:\",\"\\n\",scoresSGD)\n",
    "print(\"Accuracy report:\",\"\\n\",reportSGD)"
   ]
  },
  {
   "cell_type": "code",
   "execution_count": 93,
   "metadata": {},
   "outputs": [
    {
     "data": {
      "image/png": "[encoded data removed]",
      "text/plain": [
       "<Figure size 432x288 with 2 Axes>"
      ]
     },
     "metadata": {
      "needs_background": "light"
     },
     "output_type": "display_data"
    }
   ],
   "source": [
    "from sklearn.metrics import confusion_matrix\n",
    "\n",
    "cf_matrix = confusion_matrix(y_test, pred_tf)\n",
    "group_names = [\"True Neg\",\"False Pos\", \"False Neg\", \"True Pos\"]\n",
    "group_counts = [\"{0:0.0f}\".format(value) for value in\n",
    "                cf_matrix.flatten()]\n",
    "group_percentages = [\"{0:.2%}\".format(value) for value in\n",
    "                      cf_matrix.flatten()/np.sum(cf_matrix)]\n",
    "labels = [f'{v1}\\n{v2}\\n{v3}' for v1, v2, v3 in\n",
    "          zip(group_names,group_counts,group_percentages)]\n",
    "labels = np.asarray(labels).reshape(2,2)\n",
    "sns.heatmap(cf_matrix, annot=labels, fmt='', cmap='Blues');\n",
    "plt.show()"
   ]
  },
  {
   "attachments": {},
   "cell_type": "markdown",
   "metadata": {},
   "source": [
    "Vectorization"
   ]
  },
  {
   "cell_type": "code",
   "execution_count": 94,
   "metadata": {},
   "outputs": [],
   "source": [
    "from nltk.corpus import stopwords\n",
    "from nltk.tokenize import word_tokenize\n",
    "import string\n",
    "\n",
    "stop_words = set(stopwords.words('english'))\n",
    "def preprocess(text):\n",
    "    text = text.lower()\n",
    "    text = ''.join([word for word in text if word not in string.punctuation])\n",
    "    tokens = word_tokenize(text)\n",
    "    tokens = [word for word in tokens if word not in stop_words]\n",
    "    return ' '.join(tokens)\n",
    "\n",
    "x_train_vec = df['all_info'].apply(preprocess)\n",
    "x_test_vec = df2['all_info'].apply(preprocess)"
   ]
  },
  {
   "cell_type": "code",
   "execution_count": 95,
   "metadata": {},
   "outputs": [],
   "source": [
    "from nltk.corpus import stopwords\n",
    "from nltk.tokenize import word_tokenize\n",
    "import string\n",
    "\n",
    "stop_words = set(stopwords.words('english'))\n",
    "def preprocess(text):\n",
    "    text = text.lower()\n",
    "    text = ''.join([word for word in text if word not in string.punctuation])\n",
    "    tokens = word_tokenize(text)\n",
    "    tokens = [word for word in tokens if word not in stop_words]\n",
    "    return ' '.join(tokens)\n",
    "\n",
    "x_train_vec = df['all_info'].apply(preprocess)\n",
    "x_test_vec = df2['all_info'].apply(preprocess)"
   ]
  },
  {
   "cell_type": "code",
   "execution_count": 96,
   "metadata": {},
   "outputs": [],
   "source": [
    "from gensim.models import Word2Vec\n",
    "\n",
    "sentences_train = [sentence.split() for sentence in x_train_vec]\n",
    "w2v_model = Word2Vec(sentences_train, vector_size=100, window=5, min_count=5, workers=4)"
   ]
  },
  {
   "cell_type": "code",
   "execution_count": 97,
   "metadata": {},
   "outputs": [],
   "source": [
    "def vectorize(sentence):\n",
    "    words = sentence.split()\n",
    "    words_vecs = [w2v_model.wv[word] for word in words if word in w2v_model.wv]\n",
    "    if len(words_vecs) == 0:\n",
    "        return np.zeros(100)\n",
    "    words_vecs = np.array(words_vecs)\n",
    "    return words_vecs.mean(axis=0)\n",
    "\n",
    "x_train_vec = np.array([vectorize(sentence) for sentence in x_train_vec])\n",
    "x_test_vec = np.array([vectorize(sentence) for sentence in x_test_vec])"
   ]
  },
  {
   "cell_type": "code",
   "execution_count": 98,
   "metadata": {},
   "outputs": [
    {
     "name": "stderr",
     "output_type": "stream",
     "text": [
      "c:\\Users\\Mostafa\\AppData\\Local\\Programs\\Python\\Python310\\lib\\site-packages\\sklearn\\linear_model\\_logistic.py:458: ConvergenceWarning: lbfgs failed to converge (status=1):\n",
      "STOP: TOTAL NO. of ITERATIONS REACHED LIMIT.\n",
      "\n",
      "Increase the number of iterations (max_iter) or scale the data as shown in:\n",
      "    https://scikit-learn.org/stable/modules/preprocessing.html\n",
      "Please also refer to the documentation for alternative solver options:\n",
      "    https://scikit-learn.org/stable/modules/linear_model.html#logistic-regression\n",
      "  n_iter_i = _check_optimize_result(\n"
     ]
    },
    {
     "data": {
      "text/html": [
       "<style>#sk-container-id-1 {color: black;background-color: white;}#sk-container-id-1 pre{padding: 0;}#sk-container-id-1 div.sk-toggleable {background-color: white;}#sk-container-id-1 label.sk-toggleable__label {cursor: pointer;display: block;width: 100%;margin-bottom: 0;padding: 0.3em;box-sizing: border-box;text-align: center;}#sk-container-id-1 label.sk-toggleable__label-arrow:before {content: \"▸\";float: left;margin-right: 0.25em;color: #696969;}#sk-container-id-1 label.sk-toggleable__label-arrow:hover:before {color: black;}#sk-container-id-1 div.sk-estimator:hover label.sk-toggleable__label-arrow:before {color: black;}#sk-container-id-1 div.sk-toggleable__content {max-height: 0;max-width: 0;overflow: hidden;text-align: left;background-color: #f0f8ff;}#sk-container-id-1 div.sk-toggleable__content pre {margin: 0.2em;color: black;border-radius: 0.25em;background-color: #f0f8ff;}#sk-container-id-1 input.sk-toggleable__control:checked~div.sk-toggleable__content {max-height: 200px;max-width: 100%;overflow: auto;}#sk-container-id-1 input.sk-toggleable__control:checked~label.sk-toggleable__label-arrow:before {content: \"▾\";}#sk-container-id-1 div.sk-estimator input.sk-toggleable__control:checked~label.sk-toggleable__label {background-color: #d4ebff;}#sk-container-id-1 div.sk-label input.sk-toggleable__control:checked~label.sk-toggleable__label {background-color: #d4ebff;}#sk-container-id-1 input.sk-hidden--visually {border: 0;clip: rect(1px 1px 1px 1px);clip: rect(1px, 1px, 1px, 1px);height: 1px;margin: -1px;overflow: hidden;padding: 0;position: absolute;width: 1px;}#sk-container-id-1 div.sk-estimator {font-family: monospace;background-color: #f0f8ff;border: 1px dotted black;border-radius: 0.25em;box-sizing: border-box;margin-bottom: 0.5em;}#sk-container-id-1 div.sk-estimator:hover {background-color: #d4ebff;}#sk-container-id-1 div.sk-parallel-item::after {content: \"\";width: 100%;border-bottom: 1px solid gray;flex-grow: 1;}#sk-container-id-1 div.sk-label:hover label.sk-toggleable__label {background-color: #d4ebff;}#sk-container-id-1 div.sk-serial::before {content: \"\";position: absolute;border-left: 1px solid gray;box-sizing: border-box;top: 0;bottom: 0;left: 50%;z-index: 0;}#sk-container-id-1 div.sk-serial {display: flex;flex-direction: column;align-items: center;background-color: white;padding-right: 0.2em;padding-left: 0.2em;position: relative;}#sk-container-id-1 div.sk-item {position: relative;z-index: 1;}#sk-container-id-1 div.sk-parallel {display: flex;align-items: stretch;justify-content: center;background-color: white;position: relative;}#sk-container-id-1 div.sk-item::before, #sk-container-id-1 div.sk-parallel-item::before {content: \"\";position: absolute;border-left: 1px solid gray;box-sizing: border-box;top: 0;bottom: 0;left: 50%;z-index: -1;}#sk-container-id-1 div.sk-parallel-item {display: flex;flex-direction: column;z-index: 1;position: relative;background-color: white;}#sk-container-id-1 div.sk-parallel-item:first-child::after {align-self: flex-end;width: 50%;}#sk-container-id-1 div.sk-parallel-item:last-child::after {align-self: flex-start;width: 50%;}#sk-container-id-1 div.sk-parallel-item:only-child::after {width: 0;}#sk-container-id-1 div.sk-dashed-wrapped {border: 1px dashed gray;margin: 0 0.4em 0.5em 0.4em;box-sizing: border-box;padding-bottom: 0.4em;background-color: white;}#sk-container-id-1 div.sk-label label {font-family: monospace;font-weight: bold;display: inline-block;line-height: 1.2em;}#sk-container-id-1 div.sk-label-container {text-align: center;}#sk-container-id-1 div.sk-container {/* jupyter's `normalize.less` sets `[hidden] { display: none; }` but bootstrap.min.css set `[hidden] { display: none !important; }` so we also need the `!important` here to be able to override the default hidden behavior on the sphinx rendered scikit-learn.org. See: https://github.com/scikit-learn/scikit-learn/issues/21755 */display: inline-block !important;position: relative;}#sk-container-id-1 div.sk-text-repr-fallback {display: none;}</style><div id=\"sk-container-id-1\" class=\"sk-top-container\"><div class=\"sk-text-repr-fallback\"><pre>LogisticRegression()</pre><b>In a Jupyter environment, please rerun this cell to show the HTML representation or trust the notebook. <br />On GitHub, the HTML representation is unable to render, please try loading this page with nbviewer.org.</b></div><div class=\"sk-container\" hidden><div class=\"sk-item\"><div class=\"sk-estimator sk-toggleable\"><input class=\"sk-toggleable__control sk-hidden--visually\" id=\"sk-estimator-id-1\" type=\"checkbox\" checked><label for=\"sk-estimator-id-1\" class=\"sk-toggleable__label sk-toggleable__label-arrow\">LogisticRegression</label><div class=\"sk-toggleable__content\"><pre>LogisticRegression()</pre></div></div></div></div></div>"
      ],
      "text/plain": [
       "LogisticRegression()"
      ]
     },
     "execution_count": 98,
     "metadata": {},
     "output_type": "execute_result"
    }
   ],
   "source": [
    "from sklearn.linear_model import LogisticRegression\n",
    "\n",
    "clf = LogisticRegression()\n",
    "clf.fit(x_train_vec, y_train)"
   ]
  },
  {
   "cell_type": "code",
   "execution_count": 99,
   "metadata": {},
   "outputs": [
    {
     "name": "stdout",
     "output_type": "stream",
     "text": [
      "Accuracy: 0.9590240850797622\n",
      "Precision: 0.7571428571428571\n",
      "Recall: 0.31736526946107785\n",
      "F1 score: 0.44725738396624476\n"
     ]
    }
   ],
   "source": [
    "from sklearn.metrics import accuracy_score, precision_score, recall_score, f1_score\n",
    "\n",
    "y_pred = clf.predict(x_test_vec)\n",
    "print('Accuracy:', accuracy_score(y_test, y_pred))\n",
    "print('Precision:', precision_score(y_test, y_pred, pos_label='yes'))\n",
    "print('Recall:', recall_score(y_test, y_pred, pos_label='yes'))\n",
    "print('F1 score:', f1_score(y_test, y_pred, pos_label='yes'))"
   ]
  },
  {
   "cell_type": "code",
   "execution_count": 100,
   "metadata": {},
   "outputs": [
    {
     "name": "stdout",
     "output_type": "stream",
     "text": [
      "Logistic Regression using all the features:\n",
      "Accuracy: \n",
      " 0.8551767281826712\n",
      "Accuracy report: \n",
      "               precision    recall  f1-score   support\n",
      "\n",
      "          no       0.99      0.86      0.92      3030\n",
      "         yes       0.24      0.84      0.38       167\n",
      "\n",
      "    accuracy                           0.86      3197\n",
      "   macro avg       0.62      0.85      0.65      3197\n",
      "weighted avg       0.95      0.86      0.89      3197\n",
      "\n",
      "Confusion Matrix: \n",
      " [[2594  436]\n",
      " [  27  140]]\n"
     ]
    },
    {
     "name": "stderr",
     "output_type": "stream",
     "text": [
      "c:\\Users\\Mostafa\\AppData\\Local\\Programs\\Python\\Python310\\lib\\site-packages\\sklearn\\linear_model\\_logistic.py:458: ConvergenceWarning: lbfgs failed to converge (status=1):\n",
      "STOP: TOTAL NO. of ITERATIONS REACHED LIMIT.\n",
      "\n",
      "Increase the number of iterations (max_iter) or scale the data as shown in:\n",
      "    https://scikit-learn.org/stable/modules/preprocessing.html\n",
      "Please also refer to the documentation for alternative solver options:\n",
      "    https://scikit-learn.org/stable/modules/linear_model.html#logistic-regression\n",
      "  n_iter_i = _check_optimize_result(\n"
     ]
    }
   ],
   "source": [
    "classifier = LogisticRegression(penalty='l2',solver='lbfgs',multi_class='ovr',class_weight='balanced')\n",
    "classifier.fit(x_train_vec , y_train)\n",
    "prediction=classifier.predict(x_test_vec)\n",
    "#model_score = accuracy_score(y_train, prediction)\n",
    "model_score = accuracy_score(y_test, prediction)\n",
    "class_report=classification_report(y_test, prediction)\n",
    "# Print the accuracy report, scores and confusion matrix\n",
    "print(\"Logistic Regression using all the features:\")\n",
    "print(\"Accuracy:\",\"\\n\", model_score)\n",
    "print(\"Accuracy report:\",\"\\n\", class_report)\n",
    "print(\"Confusion Matrix:\",\"\\n\", confusion_matrix(y_test, prediction))"
   ]
  },
  {
   "cell_type": "code",
   "execution_count": 101,
   "metadata": {},
   "outputs": [
    {
     "data": {
      "image/png": "[encoded data removed]",
      "text/plain": [
       "<Figure size 432x288 with 2 Axes>"
      ]
     },
     "metadata": {
      "needs_background": "light"
     },
     "output_type": "display_data"
    }
   ],
   "source": [
    "from sklearn.metrics import confusion_matrix\n",
    "\n",
    "cf_matrix = confusion_matrix(y_test, prediction)\n",
    "group_names = [\"True Neg\",\"False Pos\", \"False Neg\", \"True Pos\"]\n",
    "group_counts = [\"{0:0.0f}\".format(value) for value in\n",
    "                cf_matrix.flatten()]\n",
    "group_percentages = [\"{0:.2%}\".format(value) for value in\n",
    "                      cf_matrix.flatten()/np.sum(cf_matrix)]\n",
    "labels = [f'{v1}\\n{v2}\\n{v3}' for v1, v2, v3 in\n",
    "          zip(group_names,group_counts,group_percentages)]\n",
    "labels = np.asarray(labels).reshape(2,2)\n",
    "sns.heatmap(cf_matrix, annot=labels, fmt='', cmap='Blues');\n",
    "plt.show()"
   ]
  },
  {
   "cell_type": "code",
   "execution_count": 102,
   "metadata": {},
   "outputs": [
    {
     "name": "stdout",
     "output_type": "stream",
     "text": [
      "SGD Results will all features:\n",
      "Accuracy: \n",
      " 0.9574601188614326\n",
      "Accuracy report: \n",
      "               precision    recall  f1-score   support\n",
      "\n",
      "          no       0.96      1.00      0.98      3030\n",
      "         yes       0.78      0.26      0.39       167\n",
      "\n",
      "    accuracy                           0.96      3197\n",
      "   macro avg       0.87      0.63      0.68      3197\n",
      "weighted avg       0.95      0.96      0.95      3197\n",
      "\n"
     ]
    },
    {
     "name": "stderr",
     "output_type": "stream",
     "text": [
      "c:\\Users\\Mostafa\\AppData\\Local\\Programs\\Python\\Python310\\lib\\site-packages\\sklearn\\linear_model\\_stochastic_gradient.py:163: FutureWarning: The loss 'log' was deprecated in v1.1 and will be removed in version 1.3. Use `loss='log_loss'` which is equivalent.\n",
      "  warnings.warn(\n"
     ]
    }
   ],
   "source": [
    "from sklearn.linear_model import SGDClassifier\n",
    "from sklearn import metrics\n",
    "\n",
    "clf_log2 = SGDClassifier(loss='log').fit(x_train_vec, y_train)\n",
    "pred_tf = clf_log2.predict(x_test_vec)\n",
    "scoresSGD=accuracy_score(y_test, pred_tf)\n",
    "reportSGD=classification_report(y_test, pred_tf)\n",
    "print(\"SGD Results will all features:\")\n",
    "print(\"Accuracy:\",\"\\n\",scoresSGD)\n",
    "print(\"Accuracy report:\",\"\\n\",reportSGD)"
   ]
  },
  {
   "cell_type": "code",
   "execution_count": 103,
   "metadata": {},
   "outputs": [
    {
     "data": {
      "image/png": "[encoded data removed]",
      "text/plain": [
       "<Figure size 432x288 with 2 Axes>"
      ]
     },
     "metadata": {
      "needs_background": "light"
     },
     "output_type": "display_data"
    }
   ],
   "source": [
    "from sklearn.metrics import confusion_matrix\n",
    "\n",
    "cf_matrix = confusion_matrix(y_test, pred_tf)\n",
    "group_names = [\"True Neg\",\"False Pos\", \"False Neg\", \"True Pos\"]\n",
    "group_counts = [\"{0:0.0f}\".format(value) for value in\n",
    "                cf_matrix.flatten()]\n",
    "group_percentages = [\"{0:.2%}\".format(value) for value in\n",
    "                      cf_matrix.flatten()/np.sum(cf_matrix)]\n",
    "labels = [f'{v1}\\n{v2}\\n{v3}' for v1, v2, v3 in\n",
    "          zip(group_names,group_counts,group_percentages)]\n",
    "labels = np.asarray(labels).reshape(2,2)\n",
    "sns.heatmap(cf_matrix, annot=labels, fmt='', cmap='Blues');\n",
    "plt.show()"
   ]
  }
 ],
 "metadata": {
  "kernelspec": {
   "display_name": "Python 3",
   "language": "python",
   "name": "python3"
  },
  "language_info": {
   "codemirror_mode": {
    "name": "ipython",
    "version": 3
   },
   "file_extension": ".py",
   "mimetype": "text/x-python",
   "name": "python",
   "nbconvert_exporter": "python",
   "pygments_lexer": "ipython3",
   "version": "3.10.0"
  },
  "orig_nbformat": 4
 },
 "nbformat": 4,
 "nbformat_minor": 2
}
